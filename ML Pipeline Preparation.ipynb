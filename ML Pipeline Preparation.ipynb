{
 "cells": [
  {
   "cell_type": "markdown",
   "metadata": {},
   "source": [
    "# ML Pipeline Preparation\n",
    "Follow the instructions below to help you create your ML pipeline.\n",
    "### 1. Import libraries and load data from database.\n",
    "- Import Python libraries\n",
    "- Load dataset from database with [`read_sql_table`](https://pandas.pydata.org/pandas-docs/stable/generated/pandas.read_sql_table.html)\n",
    "- Define feature and target variables X and Y"
   ]
  },
  {
   "cell_type": "code",
   "execution_count": 109,
   "metadata": {},
   "outputs": [
    {
     "name": "stderr",
     "output_type": "stream",
     "text": [
      "[nltk_data] Downloading package punkt to\n",
      "[nltk_data]     C:\\Users\\hjone\\AppData\\Roaming\\nltk_data...\n",
      "[nltk_data]   Package punkt is already up-to-date!\n",
      "[nltk_data] Downloading package stopwords to\n",
      "[nltk_data]     C:\\Users\\hjone\\AppData\\Roaming\\nltk_data...\n",
      "[nltk_data]   Package stopwords is already up-to-date!\n"
     ]
    }
   ],
   "source": [
    "# import libraries\r\n",
    "import pandas as pd\r\n",
    "import numpy as np\r\n",
    "from sqlalchemy import create_engine\r\n",
    "import nltk\r\n",
    "import pickle\r\n",
    "import re\r\n",
    "\r\n",
    "import matplotlib.pyplot as plt\r\n",
    "\r\n",
    "nltk.download('punkt')\r\n",
    "nltk.download('stopwords')\r\n",
    "\r\n",
    "from nltk.corpus import stopwords\r\n",
    "from nltk.tokenize import word_tokenize\r\n",
    "from nltk.stem import WordNetLemmatizer\r\n",
    "\r\n",
    "from sklearn.pipeline import Pipeline\r\n",
    "from sklearn.feature_extraction.text import CountVectorizer\r\n",
    "from sklearn.feature_extraction.text import TfidfTransformer\r\n",
    "from sklearn.ensemble import RandomForestClassifier\r\n",
    "from sklearn.multioutput import MultiOutputClassifier\r\n",
    "from sklearn.model_selection import train_test_split\r\n",
    "from sklearn.metrics import accuracy_score, precision_score, recall_score, f1_score, make_scorer\r\n",
    "from sklearn.model_selection import GridSearchCV\r\n",
    "from sklearn.svm import SVC\r\n",
    "\r\n",
    "np.random.seed(42)"
   ]
  },
  {
   "cell_type": "markdown",
   "metadata": {},
   "source": [
    "### Functions"
   ]
  },
  {
   "cell_type": "code",
   "execution_count": 110,
   "metadata": {},
   "outputs": [],
   "source": [
    "def get_eval_metrics(actual, predicted, col_names):\r\n",
    "    \"\"\"\r\n",
    "    Calculate evaluation metrics for model\r\n",
    "    \r\n",
    "    Args:\r\n",
    "    actual: array. Array containing actual labels.\r\n",
    "    predicted: array. Array containing predicted labels.\r\n",
    "    col_names: List of strings. List containing names for each of the predicted fields.\r\n",
    "       \r\n",
    "    Returns:\r\n",
    "    metrics_df: dataframe. Dataframe containing the accuracy, precision, recall \r\n",
    "    and f1 score for a given set of actual and predicted labels.\r\n",
    "    \"\"\"\r\n",
    "    metrics = []\r\n",
    "    \r\n",
    "    # average{‘micro’, ‘macro’, ‘samples’,’weighted’, ‘binary’} or None, default=’binary’\r\n",
    "    avg_type='weighted'  # weighted is supposed to take label imbalance into account \r\n",
    "    zero_division_treatment=0 # 0,1,'warn'\r\n",
    "    \r\n",
    "    # Calculate evaluation metrics for each set of labels\r\n",
    "    for i in range(len(col_names)):\r\n",
    "        accuracy = accuracy_score(actual[:, i], predicted[:, i])\r\n",
    "        precision = precision_score(actual[:, i], predicted[:, i], average=avg_type, zero_division=zero_division_treatment)\r\n",
    "        recall = recall_score(actual[:, i], predicted[:, i], average=avg_type, zero_division=zero_division_treatment)\r\n",
    "        f1 = f1_score(actual[:, i], predicted[:, i], average=avg_type, zero_division=zero_division_treatment)\r\n",
    "        \r\n",
    "        metrics.append( [accuracy, precision, recall, f1] )\r\n",
    "    \r\n",
    "    # Create dataframe containing metrics\r\n",
    "    metrics = np.array(metrics)\r\n",
    "    metrics_df = pd.DataFrame(data = metrics, index = col_names, columns = ['Accuracy', 'Precision', 'Recall', 'F1'])\r\n",
    "      \r\n",
    "    return metrics_df\r\n",
    "\r\n",
    "\r\n",
    "# Define performance metric for use in grid search scoring object\r\n",
    "def performance_metric(y_true, y_pred)->float:\r\n",
    "    \"\"\"\r\n",
    "    \r\n",
    "    Calculate median F1 score for all of the output classifiers\r\n",
    "    \r\n",
    "    Args:\r\n",
    "    y_true: array. Array containing actual labels.\r\n",
    "    y_pred: array. Array containing predicted labels.\r\n",
    "        \r\n",
    "    Returns:\r\n",
    "    score: float. Median F1 score for all of the output classifiers\r\n",
    "    \"\"\"\r\n",
    "    average_type='binary'\r\n",
    "    f1_list = []\r\n",
    "    for i in range(np.shape(y_pred)[1]):\r\n",
    "        f1 = f1_score(np.array(y_true)[:, i], y_pred[:, i],average='micro')\r\n",
    "        f1_list.append(f1)\r\n",
    "        \r\n",
    "    score = np.median(f1_list)\r\n",
    "    return score"
   ]
  },
  {
   "cell_type": "code",
   "execution_count": 111,
   "metadata": {},
   "outputs": [],
   "source": [
    "tableName='Message_Categories'\n",
    "dbName='Disaster_Response_Message.db'"
   ]
  },
  {
   "cell_type": "code",
   "execution_count": 112,
   "metadata": {},
   "outputs": [],
   "source": [
    "# load data from database\n",
    "engine = create_engine('sqlite:///' + dbName)\n",
    "df = pd.read_sql_table(table_name=tableName, con=engine)\n",
    "\n",
    "feature_list=['id', 'message', 'original', 'genre']\n",
    "X = df['message']\n",
    "Y = df.drop(feature_list, axis=1)"
   ]
  },
  {
   "cell_type": "code",
   "execution_count": 113,
   "metadata": {},
   "outputs": [
    {
     "name": "stdout",
     "output_type": "stream",
     "text": [
      "<class 'pandas.core.series.Series'>\n"
     ]
    }
   ],
   "source": [
    "print(type(X))"
   ]
  },
  {
   "cell_type": "code",
   "execution_count": 114,
   "metadata": {},
   "outputs": [
    {
     "name": "stdout",
     "output_type": "stream",
     "text": [
      "X (26177,)\n",
      "Y (26177, 36)\n"
     ]
    }
   ],
   "source": [
    "print(\"X\",X.shape)\n",
    "print(\"Y\",Y.shape)"
   ]
  },
  {
   "cell_type": "code",
   "execution_count": 115,
   "metadata": {},
   "outputs": [
    {
     "name": "stdout",
     "output_type": "stream",
     "text": [
      "(26177, 36)\n"
     ]
    },
    {
     "data": {
      "image/png": "[encoded data removed]",
      "text/plain": [
       "<Figure size 1080x1080 with 36 Axes>"
      ]
     },
     "metadata": {
      "needs_background": "light"
     },
     "output_type": "display_data"
    }
   ],
   "source": [
    "# Visualize target class labels support\n",
    "\n",
    "print (Y.shape)\n",
    "\n",
    "fig, axs = plt.subplots(6,6,figsize=(15,15))\n",
    "\n",
    "axs = np.array(axs)\n",
    "\n",
    "fig.suptitle(\"Classes\")\n",
    "    \n",
    "fig.tight_layout()    \n",
    "\n",
    "\n",
    "    \n",
    "for i, ax in enumerate(fig.axes):\n",
    "    ax.hist(Y[Y.columns[i-1]],bins=2)\n",
    "    ax.set_title(Y.columns[i-1])\n",
    "    ax.set_ylabel('support')\n",
    "    ax.set_xlabel('')"
   ]
  },
  {
   "cell_type": "markdown",
   "metadata": {},
   "source": [
    "Nearly all classes are unbalanced"
   ]
  },
  {
   "cell_type": "markdown",
   "metadata": {},
   "source": [
    "### 2. Write a tokenization function to process your text data"
   ]
  },
  {
   "cell_type": "code",
   "execution_count": 116,
   "metadata": {},
   "outputs": [],
   "source": [
    "def tokenize(text):\r\n",
    "    \"\"\"\r\n",
    "    Tokenize the text message fields\r\n",
    "    \r\n",
    "    Args:\r\n",
    "    text (string) text to tokenize\r\n",
    "    \r\n",
    "    Returns:\r\n",
    "    List tokenised text\r\n",
    "    \"\"\"\r\n",
    "    text = re.sub(r\"[^a-zA-Z0-9]\", \" \", text.lower())\r\n",
    "    \r\n",
    "    tokens = word_tokenize(text)\r\n",
    "    \r\n",
    "\r\n",
    "    \r\n",
    "    stop_words = stopwords.words(\"english\")\r\n",
    "    \r\n",
    "    #tokenised = [stemmer.stem(word) for word in tokens if word not in stop_words]\r\n",
    "    lemmatizer = WordNetLemmatizer()\r\n",
    "    # Lemmatize\r\n",
    "    tokenised = [lemmatizer.lemmatize(word) for word in tokens if word not in stop_words]\r\n",
    "                 \r\n",
    "    return tokenised"
   ]
  },
  {
   "cell_type": "markdown",
   "metadata": {},
   "source": [
    "### 3. Build a machine learning pipeline\n",
    "This machine pipeline should take in the `message` column as input and output classification results on the other 36 categories in the dataset. You may find the [MultiOutputClassifier](http://scikit-learn.org/stable/modules/generated/sklearn.multioutput.MultiOutputClassifier.html) helpful for predicting multiple target variables."
   ]
  },
  {
   "cell_type": "markdown",
   "metadata": {},
   "source": [
    "CountVectorizer : Builds a count dictionary with count for each word\n",
    "TfidTransformer : TF-FTI Term Frequency times inverse document frequency. Reduces weightage of common words\n"
   ]
  },
  {
   "cell_type": "code",
   "execution_count": 117,
   "metadata": {},
   "outputs": [],
   "source": [
    "pipeline = Pipeline ( [\n",
    "    ('vect', CountVectorizer(tokenizer = tokenize)),\n",
    "    ('tfidf', TfidfTransformer()),\n",
    "    ('clf', MultiOutputClassifier(RandomForestClassifier()))\n",
    "    ] )"
   ]
  },
  {
   "cell_type": "code",
   "execution_count": 118,
   "metadata": {},
   "outputs": [],
   "source": [
    "# List all the parameters for this pipeline\n",
    "#pipeline.get_params()"
   ]
  },
  {
   "cell_type": "markdown",
   "metadata": {},
   "source": [
    "### 4. Train pipeline\n",
    "- Split data into train and test sets\n",
    "- Train pipeline"
   ]
  },
  {
   "cell_type": "code",
   "execution_count": 119,
   "metadata": {},
   "outputs": [
    {
     "name": "stdout",
     "output_type": "stream",
     "text": [
      "(20941,)\n",
      "(20941, 36)\n"
     ]
    }
   ],
   "source": [
    "X_train, X_test, Y_train, Y_test = train_test_split(X, Y,test_size=0.2, random_state = 42)\n",
    "\n",
    "print(X_train.shape)\n",
    "print(Y_train.shape)"
   ]
  },
  {
   "cell_type": "code",
   "execution_count": 120,
   "metadata": {},
   "outputs": [],
   "source": [
    "# Train pipeline model\n",
    "model1=pipeline.fit(X_train, Y_train)"
   ]
  },
  {
   "cell_type": "markdown",
   "metadata": {},
   "source": [
    "### 5. Test your model\n",
    "Report the f1 score, precision and recall for each output category of the dataset. You can do this by iterating through the columns and calling sklearn's `classification_report` on each."
   ]
  },
  {
   "cell_type": "code",
   "execution_count": 121,
   "metadata": {},
   "outputs": [],
   "source": [
    "# Calculate evaluation metrics for training set\n",
    "Y_train_pred = pipeline.predict(X_train)\n",
    "col_names = list(Y.columns.values)"
   ]
  },
  {
   "cell_type": "code",
   "execution_count": 122,
   "metadata": {},
   "outputs": [
    {
     "name": "stdout",
     "output_type": "stream",
     "text": [
      "                        Accuracy  Precision    Recall        F1\n",
      "related                 0.998520   0.998521  0.998520  0.998520\n",
      "request                 0.999236   0.999236  0.999236  0.999236\n",
      "offer                   1.000000   1.000000  1.000000  1.000000\n",
      "aid_related             0.998997   0.998997  0.998997  0.998997\n",
      "medical_help            0.999713   0.999714  0.999713  0.999713\n",
      "medical_products        0.999713   0.999714  0.999713  0.999713\n",
      "search_and_rescue       0.999857   0.999857  0.999857  0.999857\n",
      "security                0.999761   0.999761  0.999761  0.999760\n",
      "military                0.999952   0.999952  0.999952  0.999952\n",
      "child_alone             1.000000   1.000000  1.000000  1.000000\n",
      "water                   1.000000   1.000000  1.000000  1.000000\n",
      "food                    0.999952   0.999952  0.999952  0.999952\n",
      "shelter                 0.999904   0.999905  0.999904  0.999904\n",
      "clothing                0.999952   0.999952  0.999952  0.999952\n",
      "money                   1.000000   1.000000  1.000000  1.000000\n",
      "missing_people          0.999857   0.999857  0.999857  0.999857\n",
      "refugees                0.999952   0.999952  0.999952  0.999952\n",
      "death                   0.999809   0.999809  0.999809  0.999809\n",
      "other_aid               0.999045   0.999046  0.999045  0.999045\n",
      "infrastructure_related  0.999857   0.999857  0.999857  0.999857\n",
      "transport               0.999666   0.999666  0.999666  0.999665\n",
      "buildings               0.999952   0.999952  0.999952  0.999952\n",
      "electricity             1.000000   1.000000  1.000000  1.000000\n",
      "tools                   0.999952   0.999952  0.999952  0.999952\n",
      "hospitals               1.000000   1.000000  1.000000  1.000000\n",
      "shops                   1.000000   1.000000  1.000000  1.000000\n",
      "aid_centers             0.999952   0.999952  0.999952  0.999952\n",
      "other_infrastructure    0.999952   0.999952  0.999952  0.999952\n",
      "weather_related         0.999522   0.999523  0.999522  0.999522\n",
      "floods                  0.999713   0.999713  0.999713  0.999713\n",
      "storm                   0.999857   0.999857  0.999857  0.999857\n",
      "fire                    1.000000   1.000000  1.000000  1.000000\n",
      "earthquake              0.999713   0.999714  0.999713  0.999714\n",
      "cold                    0.999904   0.999905  0.999904  0.999904\n",
      "other_weather           0.999904   0.999905  0.999904  0.999904\n",
      "direct_report           0.999331   0.999332  0.999331  0.999331\n"
     ]
    }
   ],
   "source": [
    "eval_metrics0 = get_eval_metrics(np.array(Y_train), Y_train_pred, col_names)\n",
    "print(eval_metrics0)"
   ]
  },
  {
   "cell_type": "code",
   "execution_count": 123,
   "metadata": {},
   "outputs": [
    {
     "data": {
      "text/html": [
       "<div>\n",
       "<style scoped>\n",
       "    .dataframe tbody tr th:only-of-type {\n",
       "        vertical-align: middle;\n",
       "    }\n",
       "\n",
       "    .dataframe tbody tr th {\n",
       "        vertical-align: top;\n",
       "    }\n",
       "\n",
       "    .dataframe thead th {\n",
       "        text-align: right;\n",
       "    }\n",
       "</style>\n",
       "<table border=\"1\" class=\"dataframe\">\n",
       "  <thead>\n",
       "    <tr style=\"text-align: right;\">\n",
       "      <th></th>\n",
       "      <th>Accuracy</th>\n",
       "      <th>Precision</th>\n",
       "      <th>Recall</th>\n",
       "      <th>F1</th>\n",
       "    </tr>\n",
       "  </thead>\n",
       "  <tbody>\n",
       "    <tr>\n",
       "      <th>count</th>\n",
       "      <td>36.000000</td>\n",
       "      <td>36.000000</td>\n",
       "      <td>36.000000</td>\n",
       "      <td>36.000000</td>\n",
       "    </tr>\n",
       "    <tr>\n",
       "      <th>mean</th>\n",
       "      <td>0.999764</td>\n",
       "      <td>0.999764</td>\n",
       "      <td>0.999764</td>\n",
       "      <td>0.999764</td>\n",
       "    </tr>\n",
       "    <tr>\n",
       "      <th>std</th>\n",
       "      <td>0.000339</td>\n",
       "      <td>0.000339</td>\n",
       "      <td>0.000339</td>\n",
       "      <td>0.000339</td>\n",
       "    </tr>\n",
       "    <tr>\n",
       "      <th>min</th>\n",
       "      <td>0.998520</td>\n",
       "      <td>0.998521</td>\n",
       "      <td>0.998520</td>\n",
       "      <td>0.998520</td>\n",
       "    </tr>\n",
       "    <tr>\n",
       "      <th>25%</th>\n",
       "      <td>0.999713</td>\n",
       "      <td>0.999714</td>\n",
       "      <td>0.999713</td>\n",
       "      <td>0.999713</td>\n",
       "    </tr>\n",
       "    <tr>\n",
       "      <th>50%</th>\n",
       "      <td>0.999904</td>\n",
       "      <td>0.999905</td>\n",
       "      <td>0.999904</td>\n",
       "      <td>0.999904</td>\n",
       "    </tr>\n",
       "    <tr>\n",
       "      <th>75%</th>\n",
       "      <td>0.999952</td>\n",
       "      <td>0.999952</td>\n",
       "      <td>0.999952</td>\n",
       "      <td>0.999952</td>\n",
       "    </tr>\n",
       "    <tr>\n",
       "      <th>max</th>\n",
       "      <td>1.000000</td>\n",
       "      <td>1.000000</td>\n",
       "      <td>1.000000</td>\n",
       "      <td>1.000000</td>\n",
       "    </tr>\n",
       "  </tbody>\n",
       "</table>\n",
       "</div>"
      ],
      "text/plain": [
       "        Accuracy  Precision     Recall         F1\n",
       "count  36.000000  36.000000  36.000000  36.000000\n",
       "mean    0.999764   0.999764   0.999764   0.999764\n",
       "std     0.000339   0.000339   0.000339   0.000339\n",
       "min     0.998520   0.998521   0.998520   0.998520\n",
       "25%     0.999713   0.999714   0.999713   0.999713\n",
       "50%     0.999904   0.999905   0.999904   0.999904\n",
       "75%     0.999952   0.999952   0.999952   0.999952\n",
       "max     1.000000   1.000000   1.000000   1.000000"
      ]
     },
     "execution_count": 123,
     "metadata": {},
     "output_type": "execute_result"
    }
   ],
   "source": [
    "eval_metrics0.describe()"
   ]
  },
  {
   "cell_type": "code",
   "execution_count": 124,
   "metadata": {},
   "outputs": [],
   "source": [
    "# Calculate predicted classes for test dataset\n",
    "Y_test_pred = pipeline.predict(X_test)"
   ]
  },
  {
   "cell_type": "code",
   "execution_count": 125,
   "metadata": {},
   "outputs": [
    {
     "name": "stdout",
     "output_type": "stream",
     "text": [
      "                        Accuracy  Precision    Recall        F1\n",
      "related                 0.825439   0.814674  0.825439  0.806826\n",
      "request                 0.888083   0.883239  0.888083  0.875385\n",
      "offer                   0.995225   0.990474  0.995225  0.992844\n",
      "aid_related             0.779030   0.778003  0.779030  0.777185\n",
      "medical_help            0.917303   0.897386  0.917303  0.885469\n",
      "medical_products        0.950726   0.947064  0.950726  0.930641\n",
      "search_and_rescue       0.971734   0.965547  0.971734  0.958535\n",
      "security                0.983002   0.966666  0.983002  0.974766\n",
      "military                0.969824   0.965564  0.969824  0.957717\n",
      "child_alone             1.000000   1.000000  1.000000  1.000000\n",
      "water                   0.954927   0.953162  0.954927  0.946049\n",
      "food                    0.940985   0.937101  0.940985  0.936490\n",
      "shelter                 0.939840   0.935380  0.939840  0.930394\n",
      "clothing                0.986058   0.980745  0.986058  0.980337\n",
      "money                   0.980710   0.981083  0.980710  0.972479\n",
      "missing_people          0.989305   0.978724  0.989305  0.983986\n",
      "refugees                0.962758   0.964146  0.962758  0.945046\n",
      "death                   0.960466   0.958052  0.960466  0.946651\n",
      "other_aid               0.868220   0.837532  0.868220  0.811773\n",
      "infrastructure_related  0.932200   0.868997  0.932200  0.899490\n",
      "transport               0.956264   0.947369  0.956264  0.939247\n",
      "buildings               0.948625   0.939669  0.948625  0.929543\n",
      "electricity             0.982238   0.982554  0.982238  0.973975\n",
      "tools                   0.994461   0.988954  0.994461  0.991700\n",
      "hospitals               0.988732   0.977591  0.988732  0.983130\n",
      "shops                   0.994843   0.989713  0.994843  0.992272\n",
      "aid_centers             0.987968   0.976081  0.987968  0.981988\n",
      "other_infrastructure    0.954736   0.911522  0.954736  0.932629\n",
      "weather_related         0.882544   0.880704  0.882544  0.878175\n",
      "floods                  0.952063   0.950942  0.952063  0.943770\n",
      "storm                   0.943277   0.938888  0.943277  0.937192\n",
      "fire                    0.990260   0.980614  0.990260  0.985413\n",
      "earthquake              0.971734   0.970940  0.971734  0.971201\n",
      "cold                    0.980901   0.977578  0.980901  0.973087\n",
      "other_weather           0.948816   0.937139  0.948816  0.926365\n",
      "direct_report           0.855615   0.851322  0.855615  0.830754\n"
     ]
    }
   ],
   "source": [
    "# Calculate evaluation metrics\n",
    "eval_metrics1 = get_eval_metrics(np.array(Y_test), Y_test_pred, col_names)\n",
    "print(eval_metrics1)"
   ]
  },
  {
   "cell_type": "code",
   "execution_count": 126,
   "metadata": {},
   "outputs": [
    {
     "data": {
      "text/html": [
       "<div>\n",
       "<style scoped>\n",
       "    .dataframe tbody tr th:only-of-type {\n",
       "        vertical-align: middle;\n",
       "    }\n",
       "\n",
       "    .dataframe tbody tr th {\n",
       "        vertical-align: top;\n",
       "    }\n",
       "\n",
       "    .dataframe thead th {\n",
       "        text-align: right;\n",
       "    }\n",
       "</style>\n",
       "<table border=\"1\" class=\"dataframe\">\n",
       "  <thead>\n",
       "    <tr style=\"text-align: right;\">\n",
       "      <th></th>\n",
       "      <th>Accuracy</th>\n",
       "      <th>Precision</th>\n",
       "      <th>Recall</th>\n",
       "      <th>F1</th>\n",
       "    </tr>\n",
       "  </thead>\n",
       "  <tbody>\n",
       "    <tr>\n",
       "      <th>count</th>\n",
       "      <td>36.000000</td>\n",
       "      <td>36.000000</td>\n",
       "      <td>36.000000</td>\n",
       "      <td>36.000000</td>\n",
       "    </tr>\n",
       "    <tr>\n",
       "      <th>mean</th>\n",
       "      <td>0.948025</td>\n",
       "      <td>0.939031</td>\n",
       "      <td>0.948025</td>\n",
       "      <td>0.935625</td>\n",
       "    </tr>\n",
       "    <tr>\n",
       "      <th>std</th>\n",
       "      <td>0.051234</td>\n",
       "      <td>0.054105</td>\n",
       "      <td>0.051234</td>\n",
       "      <td>0.056670</td>\n",
       "    </tr>\n",
       "    <tr>\n",
       "      <th>min</th>\n",
       "      <td>0.779030</td>\n",
       "      <td>0.778003</td>\n",
       "      <td>0.779030</td>\n",
       "      <td>0.777185</td>\n",
       "    </tr>\n",
       "    <tr>\n",
       "      <th>25%</th>\n",
       "      <td>0.940699</td>\n",
       "      <td>0.929416</td>\n",
       "      <td>0.940699</td>\n",
       "      <td>0.928749</td>\n",
       "    </tr>\n",
       "    <tr>\n",
       "      <th>50%</th>\n",
       "      <td>0.958365</td>\n",
       "      <td>0.955607</td>\n",
       "      <td>0.958365</td>\n",
       "      <td>0.945548</td>\n",
       "    </tr>\n",
       "    <tr>\n",
       "      <th>75%</th>\n",
       "      <td>0.983766</td>\n",
       "      <td>0.977874</td>\n",
       "      <td>0.983766</td>\n",
       "      <td>0.976158</td>\n",
       "    </tr>\n",
       "    <tr>\n",
       "      <th>max</th>\n",
       "      <td>1.000000</td>\n",
       "      <td>1.000000</td>\n",
       "      <td>1.000000</td>\n",
       "      <td>1.000000</td>\n",
       "    </tr>\n",
       "  </tbody>\n",
       "</table>\n",
       "</div>"
      ],
      "text/plain": [
       "        Accuracy  Precision     Recall         F1\n",
       "count  36.000000  36.000000  36.000000  36.000000\n",
       "mean    0.948025   0.939031   0.948025   0.935625\n",
       "std     0.051234   0.054105   0.051234   0.056670\n",
       "min     0.779030   0.778003   0.779030   0.777185\n",
       "25%     0.940699   0.929416   0.940699   0.928749\n",
       "50%     0.958365   0.955607   0.958365   0.945548\n",
       "75%     0.983766   0.977874   0.983766   0.976158\n",
       "max     1.000000   1.000000   1.000000   1.000000"
      ]
     },
     "execution_count": 126,
     "metadata": {},
     "output_type": "execute_result"
    }
   ],
   "source": [
    "# Descrive Evaluation Metrics Test\r\n",
    "eval_metrics1.describe()"
   ]
  },
  {
   "cell_type": "markdown",
   "metadata": {},
   "source": [
    "### 6. Improve your model\n",
    "Use grid search to find better parameters. "
   ]
  },
  {
   "cell_type": "code",
   "execution_count": 127,
   "metadata": {},
   "outputs": [
    {
     "name": "stdout",
     "output_type": "stream",
     "text": [
      "Fitting 3 folds for each of 24 candidates, totalling 72 fits\n",
      "[CV] clf__estimator__min_samples_split=2, clf__estimator__n_estimators=100, tfidf__use_idf=True, vect__min_df=1 \n"
     ]
    },
    {
     "name": "stderr",
     "output_type": "stream",
     "text": [
      "[Parallel(n_jobs=1)]: Using backend SequentialBackend with 1 concurrent workers.\n"
     ]
    },
    {
     "name": "stdout",
     "output_type": "stream",
     "text": [
      "[CV]  clf__estimator__min_samples_split=2, clf__estimator__n_estimators=100, tfidf__use_idf=True, vect__min_df=1, score=0.960, total= 4.8min\n",
      "[CV] clf__estimator__min_samples_split=2, clf__estimator__n_estimators=100, tfidf__use_idf=True, vect__min_df=1 \n"
     ]
    },
    {
     "name": "stderr",
     "output_type": "stream",
     "text": [
      "[Parallel(n_jobs=1)]: Done   1 out of   1 | elapsed:  4.8min remaining:    0.0s\n"
     ]
    },
    {
     "name": "stdout",
     "output_type": "stream",
     "text": [
      "[CV]  clf__estimator__min_samples_split=2, clf__estimator__n_estimators=100, tfidf__use_idf=True, vect__min_df=1, score=0.957, total= 4.8min\n",
      "[CV] clf__estimator__min_samples_split=2, clf__estimator__n_estimators=100, tfidf__use_idf=True, vect__min_df=1 \n"
     ]
    },
    {
     "name": "stderr",
     "output_type": "stream",
     "text": [
      "[Parallel(n_jobs=1)]: Done   2 out of   2 | elapsed:  9.6min remaining:    0.0s\n"
     ]
    },
    {
     "name": "stdout",
     "output_type": "stream",
     "text": [
      "[CV]  clf__estimator__min_samples_split=2, clf__estimator__n_estimators=100, tfidf__use_idf=True, vect__min_df=1, score=0.957, total= 4.7min\n",
      "[CV] clf__estimator__min_samples_split=2, clf__estimator__n_estimators=100, tfidf__use_idf=True, vect__min_df=5 \n"
     ]
    },
    {
     "name": "stderr",
     "output_type": "stream",
     "text": [
      "[Parallel(n_jobs=1)]: Done   3 out of   3 | elapsed: 14.4min remaining:    0.0s\n"
     ]
    },
    {
     "name": "stdout",
     "output_type": "stream",
     "text": [
      "[CV]  clf__estimator__min_samples_split=2, clf__estimator__n_estimators=100, tfidf__use_idf=True, vect__min_df=5, score=0.963, total= 3.6min\n"
     ]
    },
    {
     "name": "stderr",
     "output_type": "stream",
     "text": [
      "[Parallel(n_jobs=1)]: Done   4 out of   4 | elapsed: 18.0min remaining:    0.0s\n"
     ]
    },
    {
     "name": "stdout",
     "output_type": "stream",
     "text": [
      "[CV] clf__estimator__min_samples_split=2, clf__estimator__n_estimators=100, tfidf__use_idf=True, vect__min_df=5 \n",
      "[CV]  clf__estimator__min_samples_split=2, clf__estimator__n_estimators=100, tfidf__use_idf=True, vect__min_df=5, score=0.960, total= 3.6min\n",
      "[CV] clf__estimator__min_samples_split=2, clf__estimator__n_estimators=100, tfidf__use_idf=True, vect__min_df=5 \n"
     ]
    },
    {
     "name": "stderr",
     "output_type": "stream",
     "text": [
      "[Parallel(n_jobs=1)]: Done   5 out of   5 | elapsed: 21.6min remaining:    0.0s\n"
     ]
    },
    {
     "name": "stdout",
     "output_type": "stream",
     "text": [
      "[CV]  clf__estimator__min_samples_split=2, clf__estimator__n_estimators=100, tfidf__use_idf=True, vect__min_df=5, score=0.961, total= 3.5min\n",
      "[CV] clf__estimator__min_samples_split=2, clf__estimator__n_estimators=100, tfidf__use_idf=False, vect__min_df=1 \n"
     ]
    },
    {
     "name": "stderr",
     "output_type": "stream",
     "text": [
      "[Parallel(n_jobs=1)]: Done   6 out of   6 | elapsed: 25.1min remaining:    0.0s\n"
     ]
    },
    {
     "name": "stdout",
     "output_type": "stream",
     "text": [
      "[CV]  clf__estimator__min_samples_split=2, clf__estimator__n_estimators=100, tfidf__use_idf=False, vect__min_df=1, score=0.961, total= 4.6min\n",
      "[CV] clf__estimator__min_samples_split=2, clf__estimator__n_estimators=100, tfidf__use_idf=False, vect__min_df=1 \n"
     ]
    },
    {
     "name": "stderr",
     "output_type": "stream",
     "text": [
      "[Parallel(n_jobs=1)]: Done   7 out of   7 | elapsed: 29.7min remaining:    0.0s\n"
     ]
    },
    {
     "name": "stdout",
     "output_type": "stream",
     "text": [
      "[CV]  clf__estimator__min_samples_split=2, clf__estimator__n_estimators=100, tfidf__use_idf=False, vect__min_df=1, score=0.957, total= 4.7min\n",
      "[CV] clf__estimator__min_samples_split=2, clf__estimator__n_estimators=100, tfidf__use_idf=False, vect__min_df=1 \n"
     ]
    },
    {
     "name": "stderr",
     "output_type": "stream",
     "text": [
      "[Parallel(n_jobs=1)]: Done   8 out of   8 | elapsed: 34.4min remaining:    0.0s\n"
     ]
    },
    {
     "name": "stdout",
     "output_type": "stream",
     "text": [
      "[CV]  clf__estimator__min_samples_split=2, clf__estimator__n_estimators=100, tfidf__use_idf=False, vect__min_df=1, score=0.958, total= 4.7min\n"
     ]
    },
    {
     "name": "stderr",
     "output_type": "stream",
     "text": [
      "[Parallel(n_jobs=1)]: Done   9 out of   9 | elapsed: 39.1min remaining:    0.0s\n"
     ]
    },
    {
     "name": "stdout",
     "output_type": "stream",
     "text": [
      "[CV] clf__estimator__min_samples_split=2, clf__estimator__n_estimators=100, tfidf__use_idf=False, vect__min_df=5 \n",
      "[CV]  clf__estimator__min_samples_split=2, clf__estimator__n_estimators=100, tfidf__use_idf=False, vect__min_df=5, score=0.965, total= 3.3min\n",
      "[CV] clf__estimator__min_samples_split=2, clf__estimator__n_estimators=100, tfidf__use_idf=False, vect__min_df=5 \n",
      "[CV]  clf__estimator__min_samples_split=2, clf__estimator__n_estimators=100, tfidf__use_idf=False, vect__min_df=5, score=0.960, total= 3.5min\n",
      "[CV] clf__estimator__min_samples_split=2, clf__estimator__n_estimators=100, tfidf__use_idf=False, vect__min_df=5 \n",
      "[CV]  clf__estimator__min_samples_split=2, clf__estimator__n_estimators=100, tfidf__use_idf=False, vect__min_df=5, score=0.960, total= 3.4min\n",
      "[CV] clf__estimator__min_samples_split=2, clf__estimator__n_estimators=150, tfidf__use_idf=True, vect__min_df=1 \n",
      "[CV]  clf__estimator__min_samples_split=2, clf__estimator__n_estimators=150, tfidf__use_idf=True, vect__min_df=1, score=0.959, total= 6.7min\n",
      "[CV] clf__estimator__min_samples_split=2, clf__estimator__n_estimators=150, tfidf__use_idf=True, vect__min_df=1 \n",
      "[CV]  clf__estimator__min_samples_split=2, clf__estimator__n_estimators=150, tfidf__use_idf=True, vect__min_df=1, score=0.957, total= 6.8min\n",
      "[CV] clf__estimator__min_samples_split=2, clf__estimator__n_estimators=150, tfidf__use_idf=True, vect__min_df=1 \n",
      "[CV]  clf__estimator__min_samples_split=2, clf__estimator__n_estimators=150, tfidf__use_idf=True, vect__min_df=1, score=0.958, total= 6.8min\n",
      "[CV] clf__estimator__min_samples_split=2, clf__estimator__n_estimators=150, tfidf__use_idf=True, vect__min_df=5 \n",
      "[CV]  clf__estimator__min_samples_split=2, clf__estimator__n_estimators=150, tfidf__use_idf=True, vect__min_df=5, score=0.965, total= 5.0min\n",
      "[CV] clf__estimator__min_samples_split=2, clf__estimator__n_estimators=150, tfidf__use_idf=True, vect__min_df=5 \n",
      "[CV]  clf__estimator__min_samples_split=2, clf__estimator__n_estimators=150, tfidf__use_idf=True, vect__min_df=5, score=0.959, total= 5.0min\n",
      "[CV] clf__estimator__min_samples_split=2, clf__estimator__n_estimators=150, tfidf__use_idf=True, vect__min_df=5 \n",
      "[CV]  clf__estimator__min_samples_split=2, clf__estimator__n_estimators=150, tfidf__use_idf=True, vect__min_df=5, score=0.960, total= 5.1min\n",
      "[CV] clf__estimator__min_samples_split=2, clf__estimator__n_estimators=150, tfidf__use_idf=False, vect__min_df=1 \n",
      "[CV]  clf__estimator__min_samples_split=2, clf__estimator__n_estimators=150, tfidf__use_idf=False, vect__min_df=1, score=0.960, total= 6.9min\n",
      "[CV] clf__estimator__min_samples_split=2, clf__estimator__n_estimators=150, tfidf__use_idf=False, vect__min_df=1 \n",
      "[CV]  clf__estimator__min_samples_split=2, clf__estimator__n_estimators=150, tfidf__use_idf=False, vect__min_df=1, score=0.957, total= 6.9min\n",
      "[CV] clf__estimator__min_samples_split=2, clf__estimator__n_estimators=150, tfidf__use_idf=False, vect__min_df=1 \n",
      "[CV]  clf__estimator__min_samples_split=2, clf__estimator__n_estimators=150, tfidf__use_idf=False, vect__min_df=1, score=0.958, total= 7.0min\n",
      "[CV] clf__estimator__min_samples_split=2, clf__estimator__n_estimators=150, tfidf__use_idf=False, vect__min_df=5 \n",
      "[CV]  clf__estimator__min_samples_split=2, clf__estimator__n_estimators=150, tfidf__use_idf=False, vect__min_df=5, score=0.964, total= 4.9min\n",
      "[CV] clf__estimator__min_samples_split=2, clf__estimator__n_estimators=150, tfidf__use_idf=False, vect__min_df=5 \n",
      "[CV]  clf__estimator__min_samples_split=2, clf__estimator__n_estimators=150, tfidf__use_idf=False, vect__min_df=5, score=0.959, total= 4.8min\n",
      "[CV] clf__estimator__min_samples_split=2, clf__estimator__n_estimators=150, tfidf__use_idf=False, vect__min_df=5 \n",
      "[CV]  clf__estimator__min_samples_split=2, clf__estimator__n_estimators=150, tfidf__use_idf=False, vect__min_df=5, score=0.959, total= 5.0min\n",
      "[CV] clf__estimator__min_samples_split=5, clf__estimator__n_estimators=100, tfidf__use_idf=True, vect__min_df=1 \n",
      "[CV]  clf__estimator__min_samples_split=5, clf__estimator__n_estimators=100, tfidf__use_idf=True, vect__min_df=1, score=0.960, total= 3.7min\n",
      "[CV] clf__estimator__min_samples_split=5, clf__estimator__n_estimators=100, tfidf__use_idf=True, vect__min_df=1 \n",
      "[CV]  clf__estimator__min_samples_split=5, clf__estimator__n_estimators=100, tfidf__use_idf=True, vect__min_df=1, score=0.958, total= 3.7min\n",
      "[CV] clf__estimator__min_samples_split=5, clf__estimator__n_estimators=100, tfidf__use_idf=True, vect__min_df=1 \n",
      "[CV]  clf__estimator__min_samples_split=5, clf__estimator__n_estimators=100, tfidf__use_idf=True, vect__min_df=1, score=0.958, total= 3.7min\n",
      "[CV] clf__estimator__min_samples_split=5, clf__estimator__n_estimators=100, tfidf__use_idf=True, vect__min_df=5 \n",
      "[CV]  clf__estimator__min_samples_split=5, clf__estimator__n_estimators=100, tfidf__use_idf=True, vect__min_df=5, score=0.965, total= 3.0min\n",
      "[CV] clf__estimator__min_samples_split=5, clf__estimator__n_estimators=100, tfidf__use_idf=True, vect__min_df=5 \n",
      "[CV]  clf__estimator__min_samples_split=5, clf__estimator__n_estimators=100, tfidf__use_idf=True, vect__min_df=5, score=0.960, total= 3.0min\n",
      "[CV] clf__estimator__min_samples_split=5, clf__estimator__n_estimators=100, tfidf__use_idf=True, vect__min_df=5 \n",
      "[CV]  clf__estimator__min_samples_split=5, clf__estimator__n_estimators=100, tfidf__use_idf=True, vect__min_df=5, score=0.960, total= 3.0min\n",
      "[CV] clf__estimator__min_samples_split=5, clf__estimator__n_estimators=100, tfidf__use_idf=False, vect__min_df=1 \n",
      "[CV]  clf__estimator__min_samples_split=5, clf__estimator__n_estimators=100, tfidf__use_idf=False, vect__min_df=1, score=0.960, total= 4.3min\n",
      "[CV] clf__estimator__min_samples_split=5, clf__estimator__n_estimators=100, tfidf__use_idf=False, vect__min_df=1 \n",
      "[CV]  clf__estimator__min_samples_split=5, clf__estimator__n_estimators=100, tfidf__use_idf=False, vect__min_df=1, score=0.957, total= 4.0min\n",
      "[CV] clf__estimator__min_samples_split=5, clf__estimator__n_estimators=100, tfidf__use_idf=False, vect__min_df=1 \n",
      "[CV]  clf__estimator__min_samples_split=5, clf__estimator__n_estimators=100, tfidf__use_idf=False, vect__min_df=1, score=0.958, total= 4.0min\n",
      "[CV] clf__estimator__min_samples_split=5, clf__estimator__n_estimators=100, tfidf__use_idf=False, vect__min_df=5 \n",
      "[CV]  clf__estimator__min_samples_split=5, clf__estimator__n_estimators=100, tfidf__use_idf=False, vect__min_df=5, score=0.964, total= 3.1min\n",
      "[CV] clf__estimator__min_samples_split=5, clf__estimator__n_estimators=100, tfidf__use_idf=False, vect__min_df=5 \n",
      "[CV]  clf__estimator__min_samples_split=5, clf__estimator__n_estimators=100, tfidf__use_idf=False, vect__min_df=5, score=0.960, total= 3.2min\n",
      "[CV] clf__estimator__min_samples_split=5, clf__estimator__n_estimators=100, tfidf__use_idf=False, vect__min_df=5 \n",
      "[CV]  clf__estimator__min_samples_split=5, clf__estimator__n_estimators=100, tfidf__use_idf=False, vect__min_df=5, score=0.960, total= 3.1min\n",
      "[CV] clf__estimator__min_samples_split=5, clf__estimator__n_estimators=150, tfidf__use_idf=True, vect__min_df=1 \n",
      "[CV]  clf__estimator__min_samples_split=5, clf__estimator__n_estimators=150, tfidf__use_idf=True, vect__min_df=1, score=0.960, total= 5.5min\n",
      "[CV] clf__estimator__min_samples_split=5, clf__estimator__n_estimators=150, tfidf__use_idf=True, vect__min_df=1 \n",
      "[CV]  clf__estimator__min_samples_split=5, clf__estimator__n_estimators=150, tfidf__use_idf=True, vect__min_df=1, score=0.957, total= 5.4min\n",
      "[CV] clf__estimator__min_samples_split=5, clf__estimator__n_estimators=150, tfidf__use_idf=True, vect__min_df=1 \n",
      "[CV]  clf__estimator__min_samples_split=5, clf__estimator__n_estimators=150, tfidf__use_idf=True, vect__min_df=1, score=0.959, total= 5.4min\n",
      "[CV] clf__estimator__min_samples_split=5, clf__estimator__n_estimators=150, tfidf__use_idf=True, vect__min_df=5 \n",
      "[CV]  clf__estimator__min_samples_split=5, clf__estimator__n_estimators=150, tfidf__use_idf=True, vect__min_df=5, score=0.964, total= 4.4min\n",
      "[CV] clf__estimator__min_samples_split=5, clf__estimator__n_estimators=150, tfidf__use_idf=True, vect__min_df=5 \n",
      "[CV]  clf__estimator__min_samples_split=5, clf__estimator__n_estimators=150, tfidf__use_idf=True, vect__min_df=5, score=0.960, total= 4.4min\n",
      "[CV] clf__estimator__min_samples_split=5, clf__estimator__n_estimators=150, tfidf__use_idf=True, vect__min_df=5 \n",
      "[CV]  clf__estimator__min_samples_split=5, clf__estimator__n_estimators=150, tfidf__use_idf=True, vect__min_df=5, score=0.961, total= 4.4min\n",
      "[CV] clf__estimator__min_samples_split=5, clf__estimator__n_estimators=150, tfidf__use_idf=False, vect__min_df=1 \n",
      "[CV]  clf__estimator__min_samples_split=5, clf__estimator__n_estimators=150, tfidf__use_idf=False, vect__min_df=1, score=0.961, total= 5.4min\n",
      "[CV] clf__estimator__min_samples_split=5, clf__estimator__n_estimators=150, tfidf__use_idf=False, vect__min_df=1 \n",
      "[CV]  clf__estimator__min_samples_split=5, clf__estimator__n_estimators=150, tfidf__use_idf=False, vect__min_df=1, score=0.957, total= 5.3min\n",
      "[CV] clf__estimator__min_samples_split=5, clf__estimator__n_estimators=150, tfidf__use_idf=False, vect__min_df=1 \n",
      "[CV]  clf__estimator__min_samples_split=5, clf__estimator__n_estimators=150, tfidf__use_idf=False, vect__min_df=1, score=0.958, total= 5.4min\n",
      "[CV] clf__estimator__min_samples_split=5, clf__estimator__n_estimators=150, tfidf__use_idf=False, vect__min_df=5 \n",
      "[CV]  clf__estimator__min_samples_split=5, clf__estimator__n_estimators=150, tfidf__use_idf=False, vect__min_df=5, score=0.964, total= 4.1min\n",
      "[CV] clf__estimator__min_samples_split=5, clf__estimator__n_estimators=150, tfidf__use_idf=False, vect__min_df=5 \n",
      "[CV]  clf__estimator__min_samples_split=5, clf__estimator__n_estimators=150, tfidf__use_idf=False, vect__min_df=5, score=0.960, total= 4.1min\n",
      "[CV] clf__estimator__min_samples_split=5, clf__estimator__n_estimators=150, tfidf__use_idf=False, vect__min_df=5 \n",
      "[CV]  clf__estimator__min_samples_split=5, clf__estimator__n_estimators=150, tfidf__use_idf=False, vect__min_df=5, score=0.960, total= 4.2min\n",
      "[CV] clf__estimator__min_samples_split=10, clf__estimator__n_estimators=100, tfidf__use_idf=True, vect__min_df=1 \n",
      "[CV]  clf__estimator__min_samples_split=10, clf__estimator__n_estimators=100, tfidf__use_idf=True, vect__min_df=1, score=0.960, total= 3.3min\n",
      "[CV] clf__estimator__min_samples_split=10, clf__estimator__n_estimators=100, tfidf__use_idf=True, vect__min_df=1 \n",
      "[CV]  clf__estimator__min_samples_split=10, clf__estimator__n_estimators=100, tfidf__use_idf=True, vect__min_df=1, score=0.958, total= 3.3min\n",
      "[CV] clf__estimator__min_samples_split=10, clf__estimator__n_estimators=100, tfidf__use_idf=True, vect__min_df=1 \n",
      "[CV]  clf__estimator__min_samples_split=10, clf__estimator__n_estimators=100, tfidf__use_idf=True, vect__min_df=1, score=0.958, total= 3.3min\n",
      "[CV] clf__estimator__min_samples_split=10, clf__estimator__n_estimators=100, tfidf__use_idf=True, vect__min_df=5 \n",
      "[CV]  clf__estimator__min_samples_split=10, clf__estimator__n_estimators=100, tfidf__use_idf=True, vect__min_df=5, score=0.964, total= 2.8min\n",
      "[CV] clf__estimator__min_samples_split=10, clf__estimator__n_estimators=100, tfidf__use_idf=True, vect__min_df=5 \n",
      "[CV]  clf__estimator__min_samples_split=10, clf__estimator__n_estimators=100, tfidf__use_idf=True, vect__min_df=5, score=0.961, total= 2.8min\n",
      "[CV] clf__estimator__min_samples_split=10, clf__estimator__n_estimators=100, tfidf__use_idf=True, vect__min_df=5 \n",
      "[CV]  clf__estimator__min_samples_split=10, clf__estimator__n_estimators=100, tfidf__use_idf=True, vect__min_df=5, score=0.960, total= 2.8min\n",
      "[CV] clf__estimator__min_samples_split=10, clf__estimator__n_estimators=100, tfidf__use_idf=False, vect__min_df=1 \n",
      "[CV]  clf__estimator__min_samples_split=10, clf__estimator__n_estimators=100, tfidf__use_idf=False, vect__min_df=1, score=0.960, total= 3.2min\n",
      "[CV] clf__estimator__min_samples_split=10, clf__estimator__n_estimators=100, tfidf__use_idf=False, vect__min_df=1 \n",
      "[CV]  clf__estimator__min_samples_split=10, clf__estimator__n_estimators=100, tfidf__use_idf=False, vect__min_df=1, score=0.956, total= 3.2min\n",
      "[CV] clf__estimator__min_samples_split=10, clf__estimator__n_estimators=100, tfidf__use_idf=False, vect__min_df=1 \n",
      "[CV]  clf__estimator__min_samples_split=10, clf__estimator__n_estimators=100, tfidf__use_idf=False, vect__min_df=1, score=0.958, total= 3.2min\n",
      "[CV] clf__estimator__min_samples_split=10, clf__estimator__n_estimators=100, tfidf__use_idf=False, vect__min_df=5 \n",
      "[CV]  clf__estimator__min_samples_split=10, clf__estimator__n_estimators=100, tfidf__use_idf=False, vect__min_df=5, score=0.966, total= 2.6min\n",
      "[CV] clf__estimator__min_samples_split=10, clf__estimator__n_estimators=100, tfidf__use_idf=False, vect__min_df=5 \n",
      "[CV]  clf__estimator__min_samples_split=10, clf__estimator__n_estimators=100, tfidf__use_idf=False, vect__min_df=5, score=0.960, total= 2.6min\n",
      "[CV] clf__estimator__min_samples_split=10, clf__estimator__n_estimators=100, tfidf__use_idf=False, vect__min_df=5 \n",
      "[CV]  clf__estimator__min_samples_split=10, clf__estimator__n_estimators=100, tfidf__use_idf=False, vect__min_df=5, score=0.960, total= 2.7min\n",
      "[CV] clf__estimator__min_samples_split=10, clf__estimator__n_estimators=150, tfidf__use_idf=True, vect__min_df=1 \n",
      "[CV]  clf__estimator__min_samples_split=10, clf__estimator__n_estimators=150, tfidf__use_idf=True, vect__min_df=1, score=0.961, total= 4.8min\n",
      "[CV] clf__estimator__min_samples_split=10, clf__estimator__n_estimators=150, tfidf__use_idf=True, vect__min_df=1 \n",
      "[CV]  clf__estimator__min_samples_split=10, clf__estimator__n_estimators=150, tfidf__use_idf=True, vect__min_df=1, score=0.958, total= 4.8min\n",
      "[CV] clf__estimator__min_samples_split=10, clf__estimator__n_estimators=150, tfidf__use_idf=True, vect__min_df=1 \n",
      "[CV]  clf__estimator__min_samples_split=10, clf__estimator__n_estimators=150, tfidf__use_idf=True, vect__min_df=1, score=0.958, total= 4.8min\n",
      "[CV] clf__estimator__min_samples_split=10, clf__estimator__n_estimators=150, tfidf__use_idf=True, vect__min_df=5 \n",
      "[CV]  clf__estimator__min_samples_split=10, clf__estimator__n_estimators=150, tfidf__use_idf=True, vect__min_df=5, score=0.965, total= 4.1min\n",
      "[CV] clf__estimator__min_samples_split=10, clf__estimator__n_estimators=150, tfidf__use_idf=True, vect__min_df=5 \n",
      "[CV]  clf__estimator__min_samples_split=10, clf__estimator__n_estimators=150, tfidf__use_idf=True, vect__min_df=5, score=0.960, total= 4.2min\n",
      "[CV] clf__estimator__min_samples_split=10, clf__estimator__n_estimators=150, tfidf__use_idf=True, vect__min_df=5 \n",
      "[CV]  clf__estimator__min_samples_split=10, clf__estimator__n_estimators=150, tfidf__use_idf=True, vect__min_df=5, score=0.960, total= 4.3min\n",
      "[CV] clf__estimator__min_samples_split=10, clf__estimator__n_estimators=150, tfidf__use_idf=False, vect__min_df=1 \n",
      "[CV]  clf__estimator__min_samples_split=10, clf__estimator__n_estimators=150, tfidf__use_idf=False, vect__min_df=1, score=0.960, total= 4.7min\n",
      "[CV] clf__estimator__min_samples_split=10, clf__estimator__n_estimators=150, tfidf__use_idf=False, vect__min_df=1 \n",
      "[CV]  clf__estimator__min_samples_split=10, clf__estimator__n_estimators=150, tfidf__use_idf=False, vect__min_df=1, score=0.956, total= 4.7min\n",
      "[CV] clf__estimator__min_samples_split=10, clf__estimator__n_estimators=150, tfidf__use_idf=False, vect__min_df=1 \n",
      "[CV]  clf__estimator__min_samples_split=10, clf__estimator__n_estimators=150, tfidf__use_idf=False, vect__min_df=1, score=0.958, total= 4.7min\n",
      "[CV] clf__estimator__min_samples_split=10, clf__estimator__n_estimators=150, tfidf__use_idf=False, vect__min_df=5 \n",
      "[CV]  clf__estimator__min_samples_split=10, clf__estimator__n_estimators=150, tfidf__use_idf=False, vect__min_df=5, score=0.965, total= 3.8min\n",
      "[CV] clf__estimator__min_samples_split=10, clf__estimator__n_estimators=150, tfidf__use_idf=False, vect__min_df=5 \n",
      "[CV]  clf__estimator__min_samples_split=10, clf__estimator__n_estimators=150, tfidf__use_idf=False, vect__min_df=5, score=0.960, total= 3.8min\n",
      "[CV] clf__estimator__min_samples_split=10, clf__estimator__n_estimators=150, tfidf__use_idf=False, vect__min_df=5 \n",
      "[CV]  clf__estimator__min_samples_split=10, clf__estimator__n_estimators=150, tfidf__use_idf=False, vect__min_df=5, score=0.960, total= 3.8min\n"
     ]
    },
    {
     "name": "stderr",
     "output_type": "stream",
     "text": [
      "[Parallel(n_jobs=1)]: Done  72 out of  72 | elapsed: 309.3min finished\n"
     ]
    }
   ],
   "source": [
    "# Create grid search object\r\n",
    "\r\n",
    "parameters = {'vect__min_df': [1, 5],\r\n",
    "              'tfidf__use_idf':[True, False],\r\n",
    "              'clf__estimator__n_estimators':[100, 150], \r\n",
    "              'clf__estimator__min_samples_split':[2, 5, 10]}\r\n",
    "\r\n",
    "scorer = make_scorer(performance_metric)\r\n",
    "cv = GridSearchCV(pipeline, param_grid = parameters, scoring = scorer, cv=3, verbose = 10, n_jobs=None)\r\n",
    "\r\n",
    "# Find best parameters\r\n",
    "np.random.seed(42)\r\n",
    "model2 = cv.fit(X_train, Y_train)"
   ]
  },
  {
   "cell_type": "code",
   "execution_count": 128,
   "metadata": {},
   "outputs": [
    {
     "data": {
      "text/plain": [
       "{'clf__estimator__min_samples_split': 10,\n",
       " 'clf__estimator__n_estimators': 100,\n",
       " 'tfidf__use_idf': False,\n",
       " 'vect__min_df': 5}"
      ]
     },
     "execution_count": 128,
     "metadata": {},
     "output_type": "execute_result"
    }
   ],
   "source": [
    "# Print the best parameters in the GridSearch\n",
    "cv.best_params_"
   ]
  },
  {
   "cell_type": "markdown",
   "metadata": {},
   "source": [
    "### 7. Test your model\r\n",
    "\r\n",
    "Show the accuracy, precision, and recall of the tuned model.  \r\n",
    "\r\n",
    "Since this project focuses on code quality, process, and  pipelines, there is no minimum performance metric needed to pass. However, make sure to fine tune your models for accuracy, precision and recall to make your project stand out - especially for your portfolio!"
   ]
  },
  {
   "cell_type": "code",
   "execution_count": 129,
   "metadata": {},
   "outputs": [
    {
     "name": "stdout",
     "output_type": "stream",
     "text": [
      "                        Accuracy  Precision    Recall        F1\n",
      "related                 0.823720   0.811606  0.823720  0.807649\n",
      "request                 0.888655   0.883483  0.888655  0.876560\n",
      "offer                   0.995225   0.990474  0.995225  0.992844\n",
      "aid_related             0.775592   0.774768  0.775592  0.775010\n",
      "medical_help            0.917876   0.895996  0.917876  0.891032\n",
      "medical_products        0.951681   0.942185  0.951681  0.935347\n",
      "search_and_rescue       0.973262   0.966857  0.973262  0.963745\n",
      "security                0.983384   0.983660  0.983384  0.975333\n",
      "military                0.970015   0.963092  0.970015  0.959490\n",
      "child_alone             1.000000   1.000000  1.000000  1.000000\n",
      "water                   0.958174   0.956112  0.958174  0.951277\n",
      "food                    0.948434   0.946101  0.948434  0.946747\n",
      "shelter                 0.942131   0.936759  0.942131  0.936034\n",
      "clothing                0.986249   0.982094  0.986249  0.980450\n",
      "money                   0.980519   0.980899  0.980519  0.972051\n",
      "missing_people          0.989496   0.989606  0.989496  0.984456\n",
      "refugees                0.964286   0.956176  0.964286  0.950734\n",
      "death                   0.965050   0.961226  0.965050  0.956719\n",
      "other_aid               0.868029   0.830977  0.868029  0.813659\n",
      "infrastructure_related  0.931436   0.880403  0.931436  0.899477\n",
      "transport               0.957792   0.949274  0.957792  0.943714\n",
      "buildings               0.949007   0.939616  0.949007  0.930864\n",
      "electricity             0.982620   0.980485  0.982620  0.975186\n",
      "tools                   0.994461   0.988954  0.994461  0.991700\n",
      "hospitals               0.988732   0.977591  0.988732  0.983130\n",
      "shops                   0.994843   0.989713  0.994843  0.992272\n",
      "aid_centers             0.987968   0.976081  0.987968  0.981988\n",
      "other_infrastructure    0.953972   0.911489  0.953972  0.932247\n",
      "weather_related         0.889610   0.887466  0.889610  0.887627\n",
      "floods                  0.957219   0.955483  0.957219  0.951589\n",
      "storm                   0.948625   0.945239  0.948625  0.945855\n",
      "fire                    0.990642   0.990729  0.990642  0.986338\n",
      "earthquake              0.973262   0.972683  0.973262  0.972902\n",
      "cold                    0.982047   0.978189  0.982047  0.976677\n",
      "other_weather           0.949580   0.938835  0.949580  0.928741\n",
      "direct_report           0.859435   0.853949  0.859435  0.837803\n"
     ]
    }
   ],
   "source": [
    "# Calculate evaluation metrics for test set\r\n",
    "model2_pred_test = model2.predict(X_test)\r\n",
    "\r\n",
    "eval_metrics2 = get_eval_metrics(np.array(Y_test), model2_pred_test, col_names)\r\n",
    "\r\n",
    "print(eval_metrics2)"
   ]
  },
  {
   "cell_type": "code",
   "execution_count": 130,
   "metadata": {},
   "outputs": [
    {
     "data": {
      "text/html": [
       "<div>\n",
       "<style scoped>\n",
       "    .dataframe tbody tr th:only-of-type {\n",
       "        vertical-align: middle;\n",
       "    }\n",
       "\n",
       "    .dataframe tbody tr th {\n",
       "        vertical-align: top;\n",
       "    }\n",
       "\n",
       "    .dataframe thead th {\n",
       "        text-align: right;\n",
       "    }\n",
       "</style>\n",
       "<table border=\"1\" class=\"dataframe\">\n",
       "  <thead>\n",
       "    <tr style=\"text-align: right;\">\n",
       "      <th></th>\n",
       "      <th>Accuracy</th>\n",
       "      <th>Precision</th>\n",
       "      <th>Recall</th>\n",
       "      <th>F1</th>\n",
       "    </tr>\n",
       "  </thead>\n",
       "  <tbody>\n",
       "    <tr>\n",
       "      <th>count</th>\n",
       "      <td>36.000000</td>\n",
       "      <td>36.000000</td>\n",
       "      <td>36.000000</td>\n",
       "      <td>36.000000</td>\n",
       "    </tr>\n",
       "    <tr>\n",
       "      <th>mean</th>\n",
       "      <td>0.949251</td>\n",
       "      <td>0.940785</td>\n",
       "      <td>0.949251</td>\n",
       "      <td>0.938535</td>\n",
       "    </tr>\n",
       "    <tr>\n",
       "      <th>std</th>\n",
       "      <td>0.051372</td>\n",
       "      <td>0.055091</td>\n",
       "      <td>0.051372</td>\n",
       "      <td>0.056315</td>\n",
       "    </tr>\n",
       "    <tr>\n",
       "      <th>min</th>\n",
       "      <td>0.775592</td>\n",
       "      <td>0.774768</td>\n",
       "      <td>0.775592</td>\n",
       "      <td>0.775010</td>\n",
       "    </tr>\n",
       "    <tr>\n",
       "      <th>25%</th>\n",
       "      <td>0.946858</td>\n",
       "      <td>0.930442</td>\n",
       "      <td>0.946858</td>\n",
       "      <td>0.930334</td>\n",
       "    </tr>\n",
       "    <tr>\n",
       "      <th>50%</th>\n",
       "      <td>0.961230</td>\n",
       "      <td>0.956144</td>\n",
       "      <td>0.961230</td>\n",
       "      <td>0.951433</td>\n",
       "    </tr>\n",
       "    <tr>\n",
       "      <th>75%</th>\n",
       "      <td>0.984100</td>\n",
       "      <td>0.980588</td>\n",
       "      <td>0.984100</td>\n",
       "      <td>0.977620</td>\n",
       "    </tr>\n",
       "    <tr>\n",
       "      <th>max</th>\n",
       "      <td>1.000000</td>\n",
       "      <td>1.000000</td>\n",
       "      <td>1.000000</td>\n",
       "      <td>1.000000</td>\n",
       "    </tr>\n",
       "  </tbody>\n",
       "</table>\n",
       "</div>"
      ],
      "text/plain": [
       "        Accuracy  Precision     Recall         F1\n",
       "count  36.000000  36.000000  36.000000  36.000000\n",
       "mean    0.949251   0.940785   0.949251   0.938535\n",
       "std     0.051372   0.055091   0.051372   0.056315\n",
       "min     0.775592   0.774768   0.775592   0.775010\n",
       "25%     0.946858   0.930442   0.946858   0.930334\n",
       "50%     0.961230   0.956144   0.961230   0.951433\n",
       "75%     0.984100   0.980588   0.984100   0.977620\n",
       "max     1.000000   1.000000   1.000000   1.000000"
      ]
     },
     "execution_count": 130,
     "metadata": {},
     "output_type": "execute_result"
    }
   ],
   "source": [
    "# Get summary stats for tuned model test\r\n",
    "eval_metrics2.describe()"
   ]
  },
  {
   "cell_type": "markdown",
   "metadata": {},
   "source": [
    "### 8. Try improving your model further. Here are a few ideas:\n",
    "* try other machine learning algorithms\n",
    "* add other features besides the TF-IDF"
   ]
  },
  {
   "cell_type": "code",
   "execution_count": 131,
   "metadata": {},
   "outputs": [],
   "source": [
    "from sklearn.tree import DecisionTreeClassifier"
   ]
  },
  {
   "cell_type": "code",
   "execution_count": 132,
   "metadata": {},
   "outputs": [],
   "source": [
    "# Try using DecisionTreeClassifier instead of Random Forest Classifier\r\n",
    "pipeline3 = Pipeline([\r\n",
    "    ('vect', CountVectorizer(tokenizer = tokenize)),\r\n",
    "    ('tfidf', TfidfTransformer()),\r\n",
    "    ('clf', MultiOutputClassifier( DecisionTreeClassifier(splitter='best') ))])"
   ]
  },
  {
   "cell_type": "code",
   "execution_count": 133,
   "metadata": {},
   "outputs": [
    {
     "data": {
      "text/plain": [
       "{'memory': None,\n",
       " 'steps': [('vect',\n",
       "   CountVectorizer(tokenizer=<function tokenize at 0x000001E5E7381AF0>)),\n",
       "  ('tfidf', TfidfTransformer()),\n",
       "  ('clf', MultiOutputClassifier(estimator=DecisionTreeClassifier()))],\n",
       " 'verbose': False,\n",
       " 'vect': CountVectorizer(tokenizer=<function tokenize at 0x000001E5E7381AF0>),\n",
       " 'tfidf': TfidfTransformer(),\n",
       " 'clf': MultiOutputClassifier(estimator=DecisionTreeClassifier()),\n",
       " 'vect__analyzer': 'word',\n",
       " 'vect__binary': False,\n",
       " 'vect__decode_error': 'strict',\n",
       " 'vect__dtype': numpy.int64,\n",
       " 'vect__encoding': 'utf-8',\n",
       " 'vect__input': 'content',\n",
       " 'vect__lowercase': True,\n",
       " 'vect__max_df': 1.0,\n",
       " 'vect__max_features': None,\n",
       " 'vect__min_df': 1,\n",
       " 'vect__ngram_range': (1, 1),\n",
       " 'vect__preprocessor': None,\n",
       " 'vect__stop_words': None,\n",
       " 'vect__strip_accents': None,\n",
       " 'vect__token_pattern': '(?u)\\\\b\\\\w\\\\w+\\\\b',\n",
       " 'vect__tokenizer': <function __main__.tokenize(text)>,\n",
       " 'vect__vocabulary': None,\n",
       " 'tfidf__norm': 'l2',\n",
       " 'tfidf__smooth_idf': True,\n",
       " 'tfidf__sublinear_tf': False,\n",
       " 'tfidf__use_idf': True,\n",
       " 'clf__estimator__ccp_alpha': 0.0,\n",
       " 'clf__estimator__class_weight': None,\n",
       " 'clf__estimator__criterion': 'gini',\n",
       " 'clf__estimator__max_depth': None,\n",
       " 'clf__estimator__max_features': None,\n",
       " 'clf__estimator__max_leaf_nodes': None,\n",
       " 'clf__estimator__min_impurity_decrease': 0.0,\n",
       " 'clf__estimator__min_impurity_split': None,\n",
       " 'clf__estimator__min_samples_leaf': 1,\n",
       " 'clf__estimator__min_samples_split': 2,\n",
       " 'clf__estimator__min_weight_fraction_leaf': 0.0,\n",
       " 'clf__estimator__presort': 'deprecated',\n",
       " 'clf__estimator__random_state': None,\n",
       " 'clf__estimator__splitter': 'best',\n",
       " 'clf__estimator': DecisionTreeClassifier(),\n",
       " 'clf__n_jobs': None}"
      ]
     },
     "execution_count": 133,
     "metadata": {},
     "output_type": "execute_result"
    }
   ],
   "source": [
    "# List all the parameters for this pipeline\r\n",
    "pipeline3.get_params()"
   ]
  },
  {
   "cell_type": "code",
   "execution_count": 134,
   "metadata": {},
   "outputs": [],
   "source": [
    "# Create grid search object\r\n",
    "\r\n",
    "parameters = {'vect__min_df': [1, 5],\r\n",
    "              'tfidf__use_idf':[True, False],\r\n",
    "              'clf__estimator__criterion':['gini', 'entropy'], \r\n",
    "              'clf__estimator__min_samples_leaf':[1, 3]}\r\n",
    "\r\n",
    "scorer = make_scorer(performance_metric)\r\n",
    "cv = GridSearchCV(pipeline3, param_grid = parameters, scoring = scorer, cv=3, verbose = 10, n_jobs=None)\r\n",
    "\r\n"
   ]
  },
  {
   "cell_type": "code",
   "execution_count": 135,
   "metadata": {},
   "outputs": [
    {
     "name": "stdout",
     "output_type": "stream",
     "text": [
      "Fitting 3 folds for each of 16 candidates, totalling 48 fits\n",
      "[CV] clf__estimator__criterion=gini, clf__estimator__min_samples_leaf=1, tfidf__use_idf=True, vect__min_df=1 \n"
     ]
    },
    {
     "name": "stderr",
     "output_type": "stream",
     "text": [
      "[Parallel(n_jobs=1)]: Using backend SequentialBackend with 1 concurrent workers.\n"
     ]
    },
    {
     "name": "stdout",
     "output_type": "stream",
     "text": [
      "[CV]  clf__estimator__criterion=gini, clf__estimator__min_samples_leaf=1, tfidf__use_idf=True, vect__min_df=1, score=0.958, total= 2.1min\n",
      "[CV] clf__estimator__criterion=gini, clf__estimator__min_samples_leaf=1, tfidf__use_idf=True, vect__min_df=1 \n"
     ]
    },
    {
     "name": "stderr",
     "output_type": "stream",
     "text": [
      "[Parallel(n_jobs=1)]: Done   1 out of   1 | elapsed:  2.1min remaining:    0.0s\n"
     ]
    },
    {
     "name": "stdout",
     "output_type": "stream",
     "text": [
      "[CV]  clf__estimator__criterion=gini, clf__estimator__min_samples_leaf=1, tfidf__use_idf=True, vect__min_df=1, score=0.956, total= 2.1min\n",
      "[CV] clf__estimator__criterion=gini, clf__estimator__min_samples_leaf=1, tfidf__use_idf=True, vect__min_df=1 \n"
     ]
    },
    {
     "name": "stderr",
     "output_type": "stream",
     "text": [
      "[Parallel(n_jobs=1)]: Done   2 out of   2 | elapsed:  4.2min remaining:    0.0s\n"
     ]
    },
    {
     "name": "stdout",
     "output_type": "stream",
     "text": [
      "[CV]  clf__estimator__criterion=gini, clf__estimator__min_samples_leaf=1, tfidf__use_idf=True, vect__min_df=1, score=0.958, total= 2.2min\n",
      "[CV] clf__estimator__criterion=gini, clf__estimator__min_samples_leaf=1, tfidf__use_idf=True, vect__min_df=5 \n"
     ]
    },
    {
     "name": "stderr",
     "output_type": "stream",
     "text": [
      "[Parallel(n_jobs=1)]: Done   3 out of   3 | elapsed:  6.4min remaining:    0.0s\n"
     ]
    },
    {
     "name": "stdout",
     "output_type": "stream",
     "text": [
      "[CV]  clf__estimator__criterion=gini, clf__estimator__min_samples_leaf=1, tfidf__use_idf=True, vect__min_df=5, score=0.957, total= 1.5min\n",
      "[CV] clf__estimator__criterion=gini, clf__estimator__min_samples_leaf=1, tfidf__use_idf=True, vect__min_df=5 \n"
     ]
    },
    {
     "name": "stderr",
     "output_type": "stream",
     "text": [
      "[Parallel(n_jobs=1)]: Done   4 out of   4 | elapsed:  7.9min remaining:    0.0s\n"
     ]
    },
    {
     "name": "stdout",
     "output_type": "stream",
     "text": [
      "[CV]  clf__estimator__criterion=gini, clf__estimator__min_samples_leaf=1, tfidf__use_idf=True, vect__min_df=5, score=0.955, total= 1.6min\n",
      "[CV] clf__estimator__criterion=gini, clf__estimator__min_samples_leaf=1, tfidf__use_idf=True, vect__min_df=5 \n"
     ]
    },
    {
     "name": "stderr",
     "output_type": "stream",
     "text": [
      "[Parallel(n_jobs=1)]: Done   5 out of   5 | elapsed:  9.5min remaining:    0.0s\n"
     ]
    },
    {
     "name": "stdout",
     "output_type": "stream",
     "text": [
      "[CV]  clf__estimator__criterion=gini, clf__estimator__min_samples_leaf=1, tfidf__use_idf=True, vect__min_df=5, score=0.957, total= 1.6min\n",
      "[CV] clf__estimator__criterion=gini, clf__estimator__min_samples_leaf=1, tfidf__use_idf=False, vect__min_df=1 \n"
     ]
    },
    {
     "name": "stderr",
     "output_type": "stream",
     "text": [
      "[Parallel(n_jobs=1)]: Done   6 out of   6 | elapsed: 11.1min remaining:    0.0s\n"
     ]
    },
    {
     "name": "stdout",
     "output_type": "stream",
     "text": [
      "[CV]  clf__estimator__criterion=gini, clf__estimator__min_samples_leaf=1, tfidf__use_idf=False, vect__min_df=1, score=0.957, total= 1.8min\n",
      "[CV] clf__estimator__criterion=gini, clf__estimator__min_samples_leaf=1, tfidf__use_idf=False, vect__min_df=1 \n"
     ]
    },
    {
     "name": "stderr",
     "output_type": "stream",
     "text": [
      "[Parallel(n_jobs=1)]: Done   7 out of   7 | elapsed: 12.9min remaining:    0.0s\n"
     ]
    },
    {
     "name": "stdout",
     "output_type": "stream",
     "text": [
      "[CV]  clf__estimator__criterion=gini, clf__estimator__min_samples_leaf=1, tfidf__use_idf=False, vect__min_df=1, score=0.955, total= 1.8min\n",
      "[CV] clf__estimator__criterion=gini, clf__estimator__min_samples_leaf=1, tfidf__use_idf=False, vect__min_df=1 \n"
     ]
    },
    {
     "name": "stderr",
     "output_type": "stream",
     "text": [
      "[Parallel(n_jobs=1)]: Done   8 out of   8 | elapsed: 14.7min remaining:    0.0s\n"
     ]
    },
    {
     "name": "stdout",
     "output_type": "stream",
     "text": [
      "[CV]  clf__estimator__criterion=gini, clf__estimator__min_samples_leaf=1, tfidf__use_idf=False, vect__min_df=1, score=0.957, total= 1.8min\n",
      "[CV] clf__estimator__criterion=gini, clf__estimator__min_samples_leaf=1, tfidf__use_idf=False, vect__min_df=5 \n"
     ]
    },
    {
     "name": "stderr",
     "output_type": "stream",
     "text": [
      "[Parallel(n_jobs=1)]: Done   9 out of   9 | elapsed: 16.5min remaining:    0.0s\n"
     ]
    },
    {
     "name": "stdout",
     "output_type": "stream",
     "text": [
      "[CV]  clf__estimator__criterion=gini, clf__estimator__min_samples_leaf=1, tfidf__use_idf=False, vect__min_df=5, score=0.958, total= 1.2min\n",
      "[CV] clf__estimator__criterion=gini, clf__estimator__min_samples_leaf=1, tfidf__use_idf=False, vect__min_df=5 \n",
      "[CV]  clf__estimator__criterion=gini, clf__estimator__min_samples_leaf=1, tfidf__use_idf=False, vect__min_df=5, score=0.955, total= 1.2min\n",
      "[CV] clf__estimator__criterion=gini, clf__estimator__min_samples_leaf=1, tfidf__use_idf=False, vect__min_df=5 \n",
      "[CV]  clf__estimator__criterion=gini, clf__estimator__min_samples_leaf=1, tfidf__use_idf=False, vect__min_df=5, score=0.959, total= 1.2min\n",
      "[CV] clf__estimator__criterion=gini, clf__estimator__min_samples_leaf=3, tfidf__use_idf=True, vect__min_df=1 \n",
      "[CV]  clf__estimator__criterion=gini, clf__estimator__min_samples_leaf=3, tfidf__use_idf=True, vect__min_df=1, score=0.961, total= 1.6min\n",
      "[CV] clf__estimator__criterion=gini, clf__estimator__min_samples_leaf=3, tfidf__use_idf=True, vect__min_df=1 \n",
      "[CV]  clf__estimator__criterion=gini, clf__estimator__min_samples_leaf=3, tfidf__use_idf=True, vect__min_df=1, score=0.960, total= 1.5min\n",
      "[CV] clf__estimator__criterion=gini, clf__estimator__min_samples_leaf=3, tfidf__use_idf=True, vect__min_df=1 \n",
      "[CV]  clf__estimator__criterion=gini, clf__estimator__min_samples_leaf=3, tfidf__use_idf=True, vect__min_df=1, score=0.959, total= 1.6min\n",
      "[CV] clf__estimator__criterion=gini, clf__estimator__min_samples_leaf=3, tfidf__use_idf=True, vect__min_df=5 \n",
      "[CV]  clf__estimator__criterion=gini, clf__estimator__min_samples_leaf=3, tfidf__use_idf=True, vect__min_df=5, score=0.961, total= 1.3min\n",
      "[CV] clf__estimator__criterion=gini, clf__estimator__min_samples_leaf=3, tfidf__use_idf=True, vect__min_df=5 \n",
      "[CV]  clf__estimator__criterion=gini, clf__estimator__min_samples_leaf=3, tfidf__use_idf=True, vect__min_df=5, score=0.959, total= 1.2min\n",
      "[CV] clf__estimator__criterion=gini, clf__estimator__min_samples_leaf=3, tfidf__use_idf=True, vect__min_df=5 \n",
      "[CV]  clf__estimator__criterion=gini, clf__estimator__min_samples_leaf=3, tfidf__use_idf=True, vect__min_df=5, score=0.961, total= 1.3min\n",
      "[CV] clf__estimator__criterion=gini, clf__estimator__min_samples_leaf=3, tfidf__use_idf=False, vect__min_df=1 \n",
      "[CV]  clf__estimator__criterion=gini, clf__estimator__min_samples_leaf=3, tfidf__use_idf=False, vect__min_df=1, score=0.962, total= 1.3min\n",
      "[CV] clf__estimator__criterion=gini, clf__estimator__min_samples_leaf=3, tfidf__use_idf=False, vect__min_df=1 \n",
      "[CV]  clf__estimator__criterion=gini, clf__estimator__min_samples_leaf=3, tfidf__use_idf=False, vect__min_df=1, score=0.960, total= 1.3min\n",
      "[CV] clf__estimator__criterion=gini, clf__estimator__min_samples_leaf=3, tfidf__use_idf=False, vect__min_df=1 \n",
      "[CV]  clf__estimator__criterion=gini, clf__estimator__min_samples_leaf=3, tfidf__use_idf=False, vect__min_df=1, score=0.960, total= 1.4min\n",
      "[CV] clf__estimator__criterion=gini, clf__estimator__min_samples_leaf=3, tfidf__use_idf=False, vect__min_df=5 \n",
      "[CV]  clf__estimator__criterion=gini, clf__estimator__min_samples_leaf=3, tfidf__use_idf=False, vect__min_df=5, score=0.965, total= 1.0min\n",
      "[CV] clf__estimator__criterion=gini, clf__estimator__min_samples_leaf=3, tfidf__use_idf=False, vect__min_df=5 \n",
      "[CV]  clf__estimator__criterion=gini, clf__estimator__min_samples_leaf=3, tfidf__use_idf=False, vect__min_df=5, score=0.960, total=  59.9s\n",
      "[CV] clf__estimator__criterion=gini, clf__estimator__min_samples_leaf=3, tfidf__use_idf=False, vect__min_df=5 \n",
      "[CV]  clf__estimator__criterion=gini, clf__estimator__min_samples_leaf=3, tfidf__use_idf=False, vect__min_df=5, score=0.961, total= 1.0min\n",
      "[CV] clf__estimator__criterion=entropy, clf__estimator__min_samples_leaf=1, tfidf__use_idf=True, vect__min_df=1 \n",
      "[CV]  clf__estimator__criterion=entropy, clf__estimator__min_samples_leaf=1, tfidf__use_idf=True, vect__min_df=1, score=0.960, total= 1.9min\n",
      "[CV] clf__estimator__criterion=entropy, clf__estimator__min_samples_leaf=1, tfidf__use_idf=True, vect__min_df=1 \n",
      "[CV]  clf__estimator__criterion=entropy, clf__estimator__min_samples_leaf=1, tfidf__use_idf=True, vect__min_df=1, score=0.957, total= 1.8min\n",
      "[CV] clf__estimator__criterion=entropy, clf__estimator__min_samples_leaf=1, tfidf__use_idf=True, vect__min_df=1 \n",
      "[CV]  clf__estimator__criterion=entropy, clf__estimator__min_samples_leaf=1, tfidf__use_idf=True, vect__min_df=1, score=0.955, total= 1.9min\n",
      "[CV] clf__estimator__criterion=entropy, clf__estimator__min_samples_leaf=1, tfidf__use_idf=True, vect__min_df=5 \n",
      "[CV]  clf__estimator__criterion=entropy, clf__estimator__min_samples_leaf=1, tfidf__use_idf=True, vect__min_df=5, score=0.958, total= 1.4min\n",
      "[CV] clf__estimator__criterion=entropy, clf__estimator__min_samples_leaf=1, tfidf__use_idf=True, vect__min_df=5 \n",
      "[CV]  clf__estimator__criterion=entropy, clf__estimator__min_samples_leaf=1, tfidf__use_idf=True, vect__min_df=5, score=0.957, total= 1.4min\n",
      "[CV] clf__estimator__criterion=entropy, clf__estimator__min_samples_leaf=1, tfidf__use_idf=True, vect__min_df=5 \n",
      "[CV]  clf__estimator__criterion=entropy, clf__estimator__min_samples_leaf=1, tfidf__use_idf=True, vect__min_df=5, score=0.956, total= 1.5min\n",
      "[CV] clf__estimator__criterion=entropy, clf__estimator__min_samples_leaf=1, tfidf__use_idf=False, vect__min_df=1 \n",
      "[CV]  clf__estimator__criterion=entropy, clf__estimator__min_samples_leaf=1, tfidf__use_idf=False, vect__min_df=1, score=0.959, total= 1.5min\n",
      "[CV] clf__estimator__criterion=entropy, clf__estimator__min_samples_leaf=1, tfidf__use_idf=False, vect__min_df=1 \n",
      "[CV]  clf__estimator__criterion=entropy, clf__estimator__min_samples_leaf=1, tfidf__use_idf=False, vect__min_df=1, score=0.956, total= 1.4min\n",
      "[CV] clf__estimator__criterion=entropy, clf__estimator__min_samples_leaf=1, tfidf__use_idf=False, vect__min_df=1 \n",
      "[CV]  clf__estimator__criterion=entropy, clf__estimator__min_samples_leaf=1, tfidf__use_idf=False, vect__min_df=1, score=0.956, total= 1.5min\n",
      "[CV] clf__estimator__criterion=entropy, clf__estimator__min_samples_leaf=1, tfidf__use_idf=False, vect__min_df=5 \n",
      "[CV]  clf__estimator__criterion=entropy, clf__estimator__min_samples_leaf=1, tfidf__use_idf=False, vect__min_df=5, score=0.959, total= 1.1min\n",
      "[CV] clf__estimator__criterion=entropy, clf__estimator__min_samples_leaf=1, tfidf__use_idf=False, vect__min_df=5 \n",
      "[CV]  clf__estimator__criterion=entropy, clf__estimator__min_samples_leaf=1, tfidf__use_idf=False, vect__min_df=5, score=0.955, total= 1.1min\n",
      "[CV] clf__estimator__criterion=entropy, clf__estimator__min_samples_leaf=1, tfidf__use_idf=False, vect__min_df=5 \n",
      "[CV]  clf__estimator__criterion=entropy, clf__estimator__min_samples_leaf=1, tfidf__use_idf=False, vect__min_df=5, score=0.955, total= 1.1min\n",
      "[CV] clf__estimator__criterion=entropy, clf__estimator__min_samples_leaf=3, tfidf__use_idf=True, vect__min_df=1 \n",
      "[CV]  clf__estimator__criterion=entropy, clf__estimator__min_samples_leaf=3, tfidf__use_idf=True, vect__min_df=1, score=0.960, total= 1.4min\n",
      "[CV] clf__estimator__criterion=entropy, clf__estimator__min_samples_leaf=3, tfidf__use_idf=True, vect__min_df=1 \n",
      "[CV]  clf__estimator__criterion=entropy, clf__estimator__min_samples_leaf=3, tfidf__use_idf=True, vect__min_df=1, score=0.959, total= 1.4min\n",
      "[CV] clf__estimator__criterion=entropy, clf__estimator__min_samples_leaf=3, tfidf__use_idf=True, vect__min_df=1 \n",
      "[CV]  clf__estimator__criterion=entropy, clf__estimator__min_samples_leaf=3, tfidf__use_idf=True, vect__min_df=1, score=0.957, total= 1.5min\n",
      "[CV] clf__estimator__criterion=entropy, clf__estimator__min_samples_leaf=3, tfidf__use_idf=True, vect__min_df=5 \n",
      "[CV]  clf__estimator__criterion=entropy, clf__estimator__min_samples_leaf=3, tfidf__use_idf=True, vect__min_df=5, score=0.961, total= 1.2min\n",
      "[CV] clf__estimator__criterion=entropy, clf__estimator__min_samples_leaf=3, tfidf__use_idf=True, vect__min_df=5 \n",
      "[CV]  clf__estimator__criterion=entropy, clf__estimator__min_samples_leaf=3, tfidf__use_idf=True, vect__min_df=5, score=0.958, total= 1.2min\n",
      "[CV] clf__estimator__criterion=entropy, clf__estimator__min_samples_leaf=3, tfidf__use_idf=True, vect__min_df=5 \n",
      "[CV]  clf__estimator__criterion=entropy, clf__estimator__min_samples_leaf=3, tfidf__use_idf=True, vect__min_df=5, score=0.957, total= 1.2min\n",
      "[CV] clf__estimator__criterion=entropy, clf__estimator__min_samples_leaf=3, tfidf__use_idf=False, vect__min_df=1 \n",
      "[CV]  clf__estimator__criterion=entropy, clf__estimator__min_samples_leaf=3, tfidf__use_idf=False, vect__min_df=1, score=0.960, total= 1.1min\n",
      "[CV] clf__estimator__criterion=entropy, clf__estimator__min_samples_leaf=3, tfidf__use_idf=False, vect__min_df=1 \n",
      "[CV]  clf__estimator__criterion=entropy, clf__estimator__min_samples_leaf=3, tfidf__use_idf=False, vect__min_df=1, score=0.960, total= 1.1min\n",
      "[CV] clf__estimator__criterion=entropy, clf__estimator__min_samples_leaf=3, tfidf__use_idf=False, vect__min_df=1 \n",
      "[CV]  clf__estimator__criterion=entropy, clf__estimator__min_samples_leaf=3, tfidf__use_idf=False, vect__min_df=1, score=0.956, total= 1.2min\n",
      "[CV] clf__estimator__criterion=entropy, clf__estimator__min_samples_leaf=3, tfidf__use_idf=False, vect__min_df=5 \n",
      "[CV]  clf__estimator__criterion=entropy, clf__estimator__min_samples_leaf=3, tfidf__use_idf=False, vect__min_df=5, score=0.962, total=  53.7s\n",
      "[CV] clf__estimator__criterion=entropy, clf__estimator__min_samples_leaf=3, tfidf__use_idf=False, vect__min_df=5 \n",
      "[CV]  clf__estimator__criterion=entropy, clf__estimator__min_samples_leaf=3, tfidf__use_idf=False, vect__min_df=5, score=0.961, total=  53.8s\n",
      "[CV] clf__estimator__criterion=entropy, clf__estimator__min_samples_leaf=3, tfidf__use_idf=False, vect__min_df=5 \n",
      "[CV]  clf__estimator__criterion=entropy, clf__estimator__min_samples_leaf=3, tfidf__use_idf=False, vect__min_df=5, score=0.957, total=  55.4s\n"
     ]
    },
    {
     "name": "stderr",
     "output_type": "stream",
     "text": [
      "[Parallel(n_jobs=1)]: Done  48 out of  48 | elapsed: 67.2min finished\n"
     ]
    }
   ],
   "source": [
    "# Find best parameters\r\n",
    "np.random.seed(42)\r\n",
    "model3 = cv.fit(X_train, Y_train)"
   ]
  },
  {
   "cell_type": "code",
   "execution_count": 136,
   "metadata": {},
   "outputs": [
    {
     "data": {
      "text/plain": [
       "{'clf__estimator__criterion': 'gini',\n",
       " 'clf__estimator__min_samples_leaf': 3,\n",
       " 'tfidf__use_idf': False,\n",
       " 'vect__min_df': 5}"
      ]
     },
     "execution_count": 136,
     "metadata": {},
     "output_type": "execute_result"
    }
   ],
   "source": [
    "# Print the best parameters in the GridSearch\r\n",
    "cv.best_params_"
   ]
  },
  {
   "cell_type": "code",
   "execution_count": 137,
   "metadata": {},
   "outputs": [],
   "source": [
    "# Calculate evaluation metrics for training set\r\n",
    "Y_train_pred = model3.predict(X_train)\r\n",
    "col_names = list(Y.columns.values)"
   ]
  },
  {
   "cell_type": "code",
   "execution_count": 138,
   "metadata": {},
   "outputs": [
    {
     "name": "stdout",
     "output_type": "stream",
     "text": [
      "                        Accuracy  Precision    Recall        F1\n",
      "related                 0.907645   0.909909  0.907645  0.908560\n",
      "request                 0.937921   0.936033  0.937921  0.936304\n",
      "offer                   0.995893   0.994729  0.995893  0.994515\n",
      "aid_related             0.892364   0.892191  0.892364  0.891967\n",
      "medical_help            0.961845   0.959329  0.961845  0.959226\n",
      "medical_products        0.976123   0.974429  0.976123  0.974382\n",
      "search_and_rescue       0.982045   0.979953  0.982045  0.979447\n",
      "security                0.985483   0.982953  0.985483  0.982447\n",
      "military                0.985817   0.984927  0.985817  0.985010\n",
      "child_alone             1.000000   1.000000  1.000000  1.000000\n",
      "water                   0.982570   0.982053  0.982570  0.982182\n",
      "food                    0.976171   0.975758  0.976171  0.975874\n",
      "shelter                 0.972685   0.971816  0.972685  0.972019\n",
      "clothing                0.993697   0.993314  0.993697  0.993328\n",
      "money                   0.988062   0.987175  0.988062  0.987375\n",
      "missing_people          0.991357   0.990310  0.991357  0.989337\n",
      "refugees                0.982713   0.981223  0.982713  0.981289\n",
      "death                   0.982666   0.981767  0.982666  0.981688\n",
      "other_aid               0.932668   0.929279  0.932668  0.930123\n",
      "infrastructure_related  0.958932   0.954892  0.958932  0.955529\n",
      "transport               0.972064   0.969250  0.972064  0.968813\n",
      "buildings               0.977843   0.976572  0.977843  0.976857\n",
      "electricity             0.989733   0.988936  0.989733  0.988793\n",
      "tools                   0.994508   0.993441  0.994508  0.992714\n",
      "hospitals               0.992407   0.991324  0.992407  0.991137\n",
      "shops                   0.996180   0.995347  0.996180  0.995181\n",
      "aid_centers             0.991786   0.990626  0.991786  0.990587\n",
      "other_infrastructure    0.971348   0.968232  0.971348  0.968793\n",
      "weather_related         0.937396   0.936841  0.937396  0.936751\n",
      "floods                  0.971444   0.970292  0.971444  0.970157\n",
      "storm                   0.975121   0.974487  0.975121  0.974646\n",
      "fire                    0.993458   0.992804  0.993458  0.992573\n",
      "earthquake              0.981520   0.981169  0.981520  0.981221\n",
      "cold                    0.990831   0.990179  0.990831  0.990171\n",
      "other_weather           0.970202   0.967590  0.970202  0.967791\n",
      "direct_report           0.917626   0.914923  0.917626  0.915320\n"
     ]
    }
   ],
   "source": [
    "eval_metrics3 = get_eval_metrics(np.array(Y_train), Y_train_pred, col_names)\r\n",
    "print(eval_metrics3)"
   ]
  },
  {
   "cell_type": "code",
   "execution_count": 139,
   "metadata": {},
   "outputs": [
    {
     "data": {
      "text/html": [
       "<div>\n",
       "<style scoped>\n",
       "    .dataframe tbody tr th:only-of-type {\n",
       "        vertical-align: middle;\n",
       "    }\n",
       "\n",
       "    .dataframe tbody tr th {\n",
       "        vertical-align: top;\n",
       "    }\n",
       "\n",
       "    .dataframe thead th {\n",
       "        text-align: right;\n",
       "    }\n",
       "</style>\n",
       "<table border=\"1\" class=\"dataframe\">\n",
       "  <thead>\n",
       "    <tr style=\"text-align: right;\">\n",
       "      <th></th>\n",
       "      <th>Accuracy</th>\n",
       "      <th>Precision</th>\n",
       "      <th>Recall</th>\n",
       "      <th>F1</th>\n",
       "    </tr>\n",
       "  </thead>\n",
       "  <tbody>\n",
       "    <tr>\n",
       "      <th>count</th>\n",
       "      <td>36.000000</td>\n",
       "      <td>36.000000</td>\n",
       "      <td>36.000000</td>\n",
       "      <td>36.000000</td>\n",
       "    </tr>\n",
       "    <tr>\n",
       "      <th>mean</th>\n",
       "      <td>0.972503</td>\n",
       "      <td>0.971224</td>\n",
       "      <td>0.972503</td>\n",
       "      <td>0.971170</td>\n",
       "    </tr>\n",
       "    <tr>\n",
       "      <th>std</th>\n",
       "      <td>0.026232</td>\n",
       "      <td>0.026280</td>\n",
       "      <td>0.026232</td>\n",
       "      <td>0.026249</td>\n",
       "    </tr>\n",
       "    <tr>\n",
       "      <th>min</th>\n",
       "      <td>0.892364</td>\n",
       "      <td>0.892191</td>\n",
       "      <td>0.892364</td>\n",
       "      <td>0.891967</td>\n",
       "    </tr>\n",
       "    <tr>\n",
       "      <th>25%</th>\n",
       "      <td>0.971062</td>\n",
       "      <td>0.968071</td>\n",
       "      <td>0.971062</td>\n",
       "      <td>0.968542</td>\n",
       "    </tr>\n",
       "    <tr>\n",
       "      <th>50%</th>\n",
       "      <td>0.981782</td>\n",
       "      <td>0.980561</td>\n",
       "      <td>0.981782</td>\n",
       "      <td>0.980334</td>\n",
       "    </tr>\n",
       "    <tr>\n",
       "      <th>75%</th>\n",
       "      <td>0.990963</td>\n",
       "      <td>0.990212</td>\n",
       "      <td>0.990963</td>\n",
       "      <td>0.989545</td>\n",
       "    </tr>\n",
       "    <tr>\n",
       "      <th>max</th>\n",
       "      <td>1.000000</td>\n",
       "      <td>1.000000</td>\n",
       "      <td>1.000000</td>\n",
       "      <td>1.000000</td>\n",
       "    </tr>\n",
       "  </tbody>\n",
       "</table>\n",
       "</div>"
      ],
      "text/plain": [
       "        Accuracy  Precision     Recall         F1\n",
       "count  36.000000  36.000000  36.000000  36.000000\n",
       "mean    0.972503   0.971224   0.972503   0.971170\n",
       "std     0.026232   0.026280   0.026232   0.026249\n",
       "min     0.892364   0.892191   0.892364   0.891967\n",
       "25%     0.971062   0.968071   0.971062   0.968542\n",
       "50%     0.981782   0.980561   0.981782   0.980334\n",
       "75%     0.990963   0.990212   0.990963   0.989545\n",
       "max     1.000000   1.000000   1.000000   1.000000"
      ]
     },
     "execution_count": 139,
     "metadata": {},
     "output_type": "execute_result"
    }
   ],
   "source": [
    "# Get summary stats for tuned model\n",
    "eval_metrics3.describe()"
   ]
  },
  {
   "cell_type": "code",
   "execution_count": 140,
   "metadata": {},
   "outputs": [
    {
     "name": "stdout",
     "output_type": "stream",
     "text": [
      "                        Accuracy  Precision    Recall        F1\n",
      "related                 0.778648   0.777135  0.778648  0.777872\n",
      "request                 0.857716   0.846385  0.857716  0.849428\n",
      "offer                   0.994652   0.990471  0.994652  0.992557\n",
      "aid_related             0.711421   0.709128  0.711421  0.709310\n",
      "medical_help            0.907945   0.893626  0.907945  0.899261\n",
      "medical_products        0.944232   0.937120  0.944232  0.940122\n",
      "search_and_rescue       0.968678   0.958207  0.968678  0.961892\n",
      "security                0.979374   0.969736  0.979374  0.974099\n",
      "military                0.963904   0.959553  0.963904  0.961485\n",
      "child_alone             1.000000   1.000000  1.000000  1.000000\n",
      "water                   0.957983   0.954770  0.957983  0.955720\n",
      "food                    0.939840   0.938530  0.939840  0.939115\n",
      "shelter                 0.931818   0.927575  0.931818  0.929272\n",
      "clothing                0.987777   0.985854  0.987777  0.986490\n",
      "money                   0.979183   0.976857  0.979183  0.977860\n",
      "missing_people          0.988350   0.985371  0.988350  0.986515\n",
      "refugees                0.963522   0.956820  0.963522  0.959118\n",
      "death                   0.966196   0.962562  0.966196  0.963723\n",
      "other_aid               0.841864   0.821660  0.841864  0.830186\n",
      "infrastructure_related  0.914248   0.891928  0.914248  0.901583\n",
      "transport               0.946715   0.936528  0.946715  0.940786\n",
      "buildings               0.948816   0.942031  0.948816  0.944563\n",
      "electricity             0.981092   0.977069  0.981092  0.978563\n",
      "tools                   0.994270   0.991890  0.994270  0.992526\n",
      "hospitals               0.986249   0.981783  0.986249  0.983712\n",
      "shops                   0.993888   0.989708  0.993888  0.991794\n",
      "aid_centers             0.985103   0.979831  0.985103  0.982150\n",
      "other_infrastructure    0.942704   0.927832  0.942704  0.934359\n",
      "weather_related         0.864209   0.861689  0.864209  0.862516\n",
      "floods                  0.947861   0.943354  0.947861  0.944586\n",
      "storm                   0.940413   0.938098  0.940413  0.939070\n",
      "fire                    0.989496   0.987252  0.989496  0.988145\n",
      "earthquake              0.967532   0.966747  0.967532  0.967061\n",
      "cold                    0.983002   0.980782  0.983002  0.981572\n",
      "other_weather           0.935829   0.925858  0.935829  0.930290\n",
      "direct_report           0.818373   0.805100  0.818373  0.809911\n"
     ]
    }
   ],
   "source": [
    "# Calculate evaluation metrics for test set\r\n",
    "model3_pred_test = model3.predict(X_test)\r\n",
    "\r\n",
    "eval_metrics4 = get_eval_metrics(np.array(Y_test), model3_pred_test, col_names)\r\n",
    "\r\n",
    "print(eval_metrics4)"
   ]
  },
  {
   "cell_type": "code",
   "execution_count": 141,
   "metadata": {},
   "outputs": [
    {
     "data": {
      "text/html": [
       "<div>\n",
       "<style scoped>\n",
       "    .dataframe tbody tr th:only-of-type {\n",
       "        vertical-align: middle;\n",
       "    }\n",
       "\n",
       "    .dataframe tbody tr th {\n",
       "        vertical-align: top;\n",
       "    }\n",
       "\n",
       "    .dataframe thead th {\n",
       "        text-align: right;\n",
       "    }\n",
       "</style>\n",
       "<table border=\"1\" class=\"dataframe\">\n",
       "  <thead>\n",
       "    <tr style=\"text-align: right;\">\n",
       "      <th></th>\n",
       "      <th>Accuracy</th>\n",
       "      <th>Precision</th>\n",
       "      <th>Recall</th>\n",
       "      <th>F1</th>\n",
       "    </tr>\n",
       "  </thead>\n",
       "  <tbody>\n",
       "    <tr>\n",
       "      <th>count</th>\n",
       "      <td>36.000000</td>\n",
       "      <td>36.000000</td>\n",
       "      <td>36.000000</td>\n",
       "      <td>36.000000</td>\n",
       "    </tr>\n",
       "    <tr>\n",
       "      <th>mean</th>\n",
       "      <td>0.938970</td>\n",
       "      <td>0.932746</td>\n",
       "      <td>0.938970</td>\n",
       "      <td>0.935200</td>\n",
       "    </tr>\n",
       "    <tr>\n",
       "      <th>std</th>\n",
       "      <td>0.065724</td>\n",
       "      <td>0.067357</td>\n",
       "      <td>0.065724</td>\n",
       "      <td>0.066779</td>\n",
       "    </tr>\n",
       "    <tr>\n",
       "      <th>min</th>\n",
       "      <td>0.711421</td>\n",
       "      <td>0.709128</td>\n",
       "      <td>0.711421</td>\n",
       "      <td>0.709310</td>\n",
       "    </tr>\n",
       "    <tr>\n",
       "      <th>25%</th>\n",
       "      <td>0.934826</td>\n",
       "      <td>0.927145</td>\n",
       "      <td>0.934826</td>\n",
       "      <td>0.930035</td>\n",
       "    </tr>\n",
       "    <tr>\n",
       "      <th>50%</th>\n",
       "      <td>0.960752</td>\n",
       "      <td>0.955795</td>\n",
       "      <td>0.960752</td>\n",
       "      <td>0.957419</td>\n",
       "    </tr>\n",
       "    <tr>\n",
       "      <th>75%</th>\n",
       "      <td>0.983528</td>\n",
       "      <td>0.980069</td>\n",
       "      <td>0.983528</td>\n",
       "      <td>0.981717</td>\n",
       "    </tr>\n",
       "    <tr>\n",
       "      <th>max</th>\n",
       "      <td>1.000000</td>\n",
       "      <td>1.000000</td>\n",
       "      <td>1.000000</td>\n",
       "      <td>1.000000</td>\n",
       "    </tr>\n",
       "  </tbody>\n",
       "</table>\n",
       "</div>"
      ],
      "text/plain": [
       "        Accuracy  Precision     Recall         F1\n",
       "count  36.000000  36.000000  36.000000  36.000000\n",
       "mean    0.938970   0.932746   0.938970   0.935200\n",
       "std     0.065724   0.067357   0.065724   0.066779\n",
       "min     0.711421   0.709128   0.711421   0.709310\n",
       "25%     0.934826   0.927145   0.934826   0.930035\n",
       "50%     0.960752   0.955795   0.960752   0.957419\n",
       "75%     0.983528   0.980069   0.983528   0.981717\n",
       "max     1.000000   1.000000   1.000000   1.000000"
      ]
     },
     "execution_count": 141,
     "metadata": {},
     "output_type": "execute_result"
    }
   ],
   "source": [
    "# Get summary stats for model3 test\r\n",
    "eval_metrics4.describe()"
   ]
  },
  {
   "cell_type": "markdown",
   "metadata": {},
   "source": [
    "### 9. Export your model as a pickle file"
   ]
  },
  {
   "cell_type": "code",
   "execution_count": 142,
   "metadata": {},
   "outputs": [],
   "source": [
    "# Pickle best model\r\n",
    "pickle.dump(model3, open('disaster_response_message_model.pkl', 'wb'))"
   ]
  },
  {
   "cell_type": "markdown",
   "metadata": {},
   "source": [
    "### 10. Use this notebook to complete `train.py`\n",
    "Use the template file attached in the Resources folder to write a script that runs the steps above to create a database and export a model based on a new dataset specified by the user."
   ]
  },
  {
   "cell_type": "code",
   "execution_count": null,
   "metadata": {},
   "outputs": [],
   "source": []
  },
  {
   "cell_type": "code",
   "execution_count": null,
   "metadata": {},
   "outputs": [],
   "source": []
  }
 ],
 "metadata": {
  "interpreter": {
   "hash": "3dd162f291d83d75708f425df500e28921467c211697323f42917ac58d0db00b"
  },
  "kernelspec": {
   "display_name": "Python 3.8.10 64-bit ('coursera': conda)",
   "name": "python3"
  },
  "language_info": {
   "codemirror_mode": {
    "name": "ipython",
    "version": 3
   },
   "file_extension": ".py",
   "mimetype": "text/x-python",
   "name": "python",
   "nbconvert_exporter": "python",
   "pygments_lexer": "ipython3",
   "version": "3.8.10"
  }
 },
 "nbformat": 4,
 "nbformat_minor": 2
}